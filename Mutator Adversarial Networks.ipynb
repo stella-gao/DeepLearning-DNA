{
 "cells": [
  {
   "cell_type": "code",
   "execution_count": 3,
   "metadata": {
    "collapsed": false
   },
   "outputs": [
    {
     "name": "stderr",
     "output_type": "stream",
     "text": [
      "Using TensorFlow backend.\n"
     ]
    }
   ],
   "source": [
    "import h5py\n",
    "import numpy as np\n",
    "import tensorflow as tf\n",
    "from keras.layers import Input, Dense, Lambda, Conv2D, AveragePooling2D, Flatten, MaxPooling2D, Dropout\n",
    "from keras.utils.io_utils import HDF5Matrix\n",
    "from keras.objectives import categorical_crossentropy\n",
    "from keras import backend as K\n",
    "\n",
    "%matplotlib inline\n",
    "from matplotlib import pylab as pl"
   ]
  },
  {
   "cell_type": "code",
   "execution_count": 5,
   "metadata": {
    "collapsed": true
   },
   "outputs": [],
   "source": [
    "def np_softmax(logits):\n",
    "    Z = np.sum(np.exp(logits), 1, keepdims=True)\n",
    "    return np.divide(np.exp(logits), Z)\n",
    "\n",
    "def np_sample_gumbel(shape, eps=1e-20):\n",
    "    \"\"\"Sample from Gumbel(0, 1)\"\"\"\n",
    "    U = np.random.uniform(0,1, shape)\n",
    "    return -np.log(-np.log(U + eps) + eps)\n",
    "\n",
    "def np_gumbel_softmax_sample(logits, temperature, inp, lam=0.5):\n",
    "    \"\"\" Draw a sample from the Gumbel-Softmax distribution\"\"\"\n",
    "    y = lam*inp*logits + (1-lam)*np_sample_gumbel(np.shape(logits))\n",
    "    return np_softmax( y / temperature)\n",
    "\n",
    "def np_gumbel_softmax(logits, temperature, hard=False):\n",
    "    \"\"\"Sample from the Gumbel-Softmax distribution and optionally discretize.\n",
    "    Args:\n",
    "    logits: [batch_size, n_class] unnormalized log-probs\n",
    "    temperature: non-negative scalar\n",
    "    hard: if True, take argmax, but differentiate w.r.t. soft sample y\n",
    "    Returns:\n",
    "    [batch_size, n_class] sample from the Gumbel-Softmax distribution.\n",
    "    If hard=True, then the returned sample will be one-hot, otherwise it will\n",
    "    be a probabilitiy distribution that sums to 1 across classes\n",
    "    \"\"\"\n",
    "    y = np_gumbel_softmax_sample(logits, temperature)\n",
    "    if hard:\n",
    "        k = np.shape(logits)[-1]\n",
    "        #y_hard = tf.cast(tf.one_hot(tf.argmax(y,1),k), y.dtype)\n",
    "        y_hard = (np.equal(y,np.max(y,1,keepdims=True)))\n",
    "#         y = tf.stop_gradient(y_hard - y) + y\n",
    "    return y_hard-y+y"
   ]
  },
  {
   "cell_type": "code",
   "execution_count": 6,
   "metadata": {
    "collapsed": true
   },
   "outputs": [],
   "source": [
    "def sample_gumbel(shape, eps=1e-20):\n",
    "    \"\"\"Sample from Gumbel(0, 1)\"\"\"\n",
    "    U = tf.random_uniform(shape,minval=0,maxval=1)\n",
    "    return -tf.log(-tf.log(U + eps) + eps)\n",
    "\n",
    "def gumbel_softmax_sample(inp, logits, temperature, lam=0.5):\n",
    "    \"\"\" Draw a sample from the Gumbel-Softmax distribution\"\"\"\n",
    "    y = lam*inp*logits + (1-lam)*sample_gumbel(tf.shape(inp))\n",
    "    return tf.nn.softmax( y / temperature, dim=1)\n",
    "\n",
    "def gumbel_softmax(inp, logits, temperature, hard=False):\n",
    "    \"\"\"Sample from the Gumbel-Softmax distribution and optionally discretize.\n",
    "    Args:\n",
    "    logits: [batch_size, n_class] unnormalized log-probs\n",
    "    temperature: non-negative scalar\n",
    "    hard: if True, take argmax, but differentiate w.r.t. soft sample y\n",
    "    Returns:\n",
    "    [batch_size, n_class] sample from the Gumbel-Softmax distribution.\n",
    "    If hard=True, then the returned sample will be one-hot, otherwise it will\n",
    "    be a probabilitiy distribution that sums to 1 across classes\n",
    "    \"\"\"\n",
    "    y = gumbel_softmax_sample(inp, logits, temperature)\n",
    "    if hard:\n",
    "        y_hard = tf.cast(tf.equal(y,tf.reduce_max(y,1,keep_dims=True)),y.dtype)\n",
    "        y = tf.stop_gradient(y_hard - y) + y\n",
    "    return y"
   ]
  },
  {
   "cell_type": "code",
   "execution_count": 122,
   "metadata": {
    "collapsed": true
   },
   "outputs": [],
   "source": []
  },
  {
   "cell_type": "code",
   "execution_count": 143,
   "metadata": {
    "collapsed": true
   },
   "outputs": [],
   "source": [
    "?Conv2D"
   ]
  },
  {
   "cell_type": "code",
   "execution_count": 7,
   "metadata": {
    "collapsed": true
   },
   "outputs": [],
   "source": [
    "tf.reset_default_graph()\n"
   ]
  },
  {
   "cell_type": "code",
   "execution_count": 8,
   "metadata": {
    "collapsed": true
   },
   "outputs": [],
   "source": [
    "inp = tf.placeholder(tf.float32, [None, 4, 1000, 1], name='dna_input')\n",
    "target = tf.placeholder(tf.float32, [None, 2], name='label')\n",
    "# temperature\n",
    "tau = tf.constant(1.0, name='temperature')\n",
    "\n",
    "with tf.variable_scope('mutator'):    \n",
    "    cn1 = Conv2D(64, [4, 5],\n",
    "                    activation='relu',\n",
    "                    kernel_regularizer='l2',\n",
    "                    padding='valid',\n",
    "                    name='conv_1')\n",
    "\n",
    "    cn2 = Conv2D(32, [1, 5],\n",
    "                    activation='relu',\n",
    "                    kernel_regularizer='l2',\n",
    "                    padding='valid',\n",
    "                    name='conv_2')\n",
    "    mp1 = MaxPooling2D((1, 2), strides=(1, 2))\n",
    "    cn3 = Conv2D(16, [1, 5],\n",
    "                    activation='relu',\n",
    "                    kernel_regularizer='l2',\n",
    "                    padding='valid',\n",
    "                    name='conv_3')\n",
    "    mp2 = MaxPooling2D((1, 2), strides=(1, 2))\n",
    "    fl1 = Flatten()\n",
    "    dn1 = Dense(50, name='representation', activation='tanh')\n",
    "\n",
    "    dn2m = Dense(1000, name='prediction', activation='linear')\n",
    "    mutant_repr = dn1(fl1(mp2(cn3(mp1(cn2(cn1(inp)))))))\n",
    "    logits  =dn2m(mutant_repr)\n",
    "    logits_dna = tf.reshape(logits, [-1, 1, 1000, 1])\n",
    "    # sample and reshape back (shape=(batch_size,N,K))\n",
    "    # set hard=True for ST Gumbel-Softmax\n",
    "    mutant = gumbel_softmax(inp, logits_dna, tau, hard=False)\n",
    "    \n",
    "with tf.variable_scope('discriminator'):\n",
    "    cn1 = Conv2D(64, [4, 5],\n",
    "                    activation='relu',\n",
    "                    kernel_regularizer='l2',\n",
    "                    padding='valid',\n",
    "                    name='conv_1')\n",
    "\n",
    "    cn2 = Conv2D(32, [1, 5],\n",
    "                    activation='relu',\n",
    "                    kernel_regularizer='l2',\n",
    "                    padding='valid',\n",
    "                    name='conv_2')\n",
    "    mp1 = MaxPooling2D((1, 2), strides=(1, 2))\n",
    "    cn3 = Conv2D(16, [1, 5],\n",
    "                    activation='relu',\n",
    "                    kernel_regularizer='l2',\n",
    "                    padding='valid',\n",
    "                    name='conv_3')\n",
    "    mp2 = MaxPooling2D((1, 2), strides=(1, 2))\n",
    "    fl1 = Flatten()\n",
    "    dn1 = Dense(50, name='representation', activation='tanh')\n",
    "\n",
    "    dn2d = Dense(1, name='prediction', activation='sigmoid')\n",
    "    p_mutant = dn2d(dn1(fl1(mp2(cn3(mp1(cn2(cn1(mutant))))))))\n",
    "    p_nonmutant = dn2d(dn1(fl1(mp2(cn3(mp1(cn2(cn1(inp))))))))\n",
    "    \n"
   ]
  },
  {
   "cell_type": "code",
   "execution_count": 9,
   "metadata": {
    "collapsed": true
   },
   "outputs": [],
   "source": [
    "disc_acc = (tf.reduce_mean(1-p_mutant) + tf.reduce_mean(p_nonmutant))/2"
   ]
  },
  {
   "cell_type": "code",
   "execution_count": 10,
   "metadata": {
    "collapsed": true
   },
   "outputs": [],
   "source": [
    "mutator_loss = tf.reduce_mean(inp*tf.log(K.clip(mutant, K.epsilon(), 1-K.epsilon())))\n",
    "\n",
    "D_loss = - tf.reduce_mean(tf.log(p_nonmutant)) - tf.reduce_mean(tf.log(1-p_mutant))\n",
    "M_loss = -tf.reduce_mean(tf.log(p_mutant)) #+ mutator_loss\n"
   ]
  },
  {
   "cell_type": "code",
   "execution_count": 327,
   "metadata": {
    "collapsed": false
   },
   "outputs": [
    {
     "data": {
      "text/plain": [
       "(0.010050335853501451, 4.6051701859880909)"
      ]
     },
     "execution_count": 327,
     "metadata": {},
     "output_type": "execute_result"
    }
   ],
   "source": [
    "-np.log(0.99), -np.log(0.01)"
   ]
  },
  {
   "cell_type": "code",
   "execution_count": 11,
   "metadata": {
    "collapsed": true
   },
   "outputs": [],
   "source": [
    "# gradient clipping\n",
    "# theta_D is list of D's params\n",
    "theta_D = [x for x in tf.get_collection(tf.GraphKeys.GLOBAL_VARIABLES) \n",
    "           if 'discriminator' in x.name]\n",
    "theta_M = [x for x in tf.get_collection(tf.GraphKeys.GLOBAL_VARIABLES) \n",
    "           if 'mutator' in x.name]\n",
    "clip_D = [p.assign(tf.clip_by_value(p, -0.01, 0.01)) for p in theta_D]"
   ]
  },
  {
   "cell_type": "code",
   "execution_count": 329,
   "metadata": {
    "collapsed": false
   },
   "outputs": [
    {
     "data": {
      "text/plain": [
       "([<tf.Variable 'mutator/conv_1/kernel:0' shape=(4, 5, 1, 64) dtype=float32_ref>,\n",
       "  <tf.Variable 'mutator/conv_1/bias:0' shape=(64,) dtype=float32_ref>,\n",
       "  <tf.Variable 'mutator/conv_2/kernel:0' shape=(1, 5, 64, 32) dtype=float32_ref>,\n",
       "  <tf.Variable 'mutator/conv_2/bias:0' shape=(32,) dtype=float32_ref>,\n",
       "  <tf.Variable 'mutator/conv_3/kernel:0' shape=(1, 5, 32, 16) dtype=float32_ref>,\n",
       "  <tf.Variable 'mutator/conv_3/bias:0' shape=(16,) dtype=float32_ref>,\n",
       "  <tf.Variable 'mutator/representation/kernel:0' shape=(3936, 50) dtype=float32_ref>,\n",
       "  <tf.Variable 'mutator/representation/bias:0' shape=(50,) dtype=float32_ref>,\n",
       "  <tf.Variable 'mutator/prediction/kernel:0' shape=(50, 1000) dtype=float32_ref>,\n",
       "  <tf.Variable 'mutator/prediction/bias:0' shape=(1000,) dtype=float32_ref>],)"
      ]
     },
     "execution_count": 329,
     "metadata": {},
     "output_type": "execute_result"
    }
   ],
   "source": [
    "theta_M, "
   ]
  },
  {
   "cell_type": "code",
   "execution_count": 12,
   "metadata": {
    "collapsed": true
   },
   "outputs": [],
   "source": [
    "D_solver = (tf.train.AdamOptimizer(learning_rate=1e-3)\n",
    "            .minimize(D_loss, var_list=theta_D))\n",
    "M_solver = (tf.train.AdamOptimizer(learning_rate=1e-3)\n",
    "            .minimize(M_loss, var_list=theta_M))\n"
   ]
  },
  {
   "cell_type": "code",
   "execution_count": 13,
   "metadata": {
    "collapsed": true
   },
   "outputs": [],
   "source": [
    "sess = tf.Session()\n",
    "init = tf.global_variables_initializer()\n",
    "sess.run(init)"
   ]
  },
  {
   "cell_type": "code",
   "execution_count": 204,
   "metadata": {
    "collapsed": true
   },
   "outputs": [],
   "source": [
    "hg38 = np.load('benchmarks/hg38_1kbp_promoters_100K.npz')['arr_0'][:20000]\n",
    "# mm10 = np.load('benchmarks/mm10_1kbp_promoters_32K.npz')['arr_0'][:20000]\n",
    "# combined = np.r_[hg38, mm10]\n",
    "# del hg38, mm10\n",
    "idx = np.arange(hg38.shape[0])\n",
    "np.random.shuffle(idx)\n",
    "hg38 = hg38[idx, :,:,None]"
   ]
  },
  {
   "cell_type": "code",
   "execution_count": 205,
   "metadata": {
    "collapsed": true
   },
   "outputs": [],
   "source": []
  },
  {
   "cell_type": "code",
   "execution_count": 252,
   "metadata": {
    "collapsed": true
   },
   "outputs": [],
   "source": [
    "def get_batch(X_train, batch_size=50):\n",
    "    ix = 0\n",
    "    while True:\n",
    "        if ix>=(X_train.shape[0]-batch_size):\n",
    "            ix = 0\n",
    "        ix+=batch_size\n",
    "        yield  X_train[ix:(ix+batch_size)]"
   ]
  },
  {
   "cell_type": "code",
   "execution_count": 370,
   "metadata": {
    "collapsed": false
   },
   "outputs": [
    {
     "name": "stdout",
     "output_type": "stream",
     "text": [
      "0 Mutator loss: 0.690535366535 \t and mut loss: -0.489382892847\n",
      "0 Discriminator loss: 1.3831936121 \t and accuracy: 0.501735568047\n",
      "1 Mutator loss: 0.684679031372 \t and mut loss: -0.488942623138\n",
      "1 Discriminator loss: 1.34842085838 \t and accuracy: 0.516740322113\n",
      "2 Mutator loss: 0.674642801285 \t and mut loss: -0.489356279373\n",
      "2 Discriminator loss: 1.31405258179 \t and accuracy: 0.530749797821\n",
      "3 Mutator loss: 0.673639237881 \t and mut loss: -0.488362073898\n",
      "3 Discriminator loss: 1.30222737789 \t and accuracy: 0.535386919975\n",
      "4 Mutator loss: 0.670461833477 \t and mut loss: -0.489137530327\n",
      "4 Discriminator loss: 1.2995839119 \t and accuracy: 0.535588264465\n",
      "5 Mutator loss: 0.666309058666 \t and mut loss: -0.489150077105\n",
      "5 Discriminator loss: 1.29827880859 \t and accuracy: 0.535190582275\n",
      "6 Mutator loss: 0.672556400299 \t and mut loss: -0.487465322018\n",
      "6 Discriminator loss: 1.29728126526 \t and accuracy: 0.53565454483\n",
      "7 Mutator loss: 0.670204877853 \t and mut loss: -0.489882111549\n",
      "7 Discriminator loss: 1.29692745209 \t and accuracy: 0.53519308567\n",
      "8 Mutator loss: 0.678694963455 \t and mut loss: -0.487457841635\n",
      "8 Discriminator loss: 1.29871404171 \t and accuracy: 0.53504383564\n",
      "9 Mutator loss: 0.676831424236 \t and mut loss: -0.489580065012\n",
      "9 Discriminator loss: 1.29962468147 \t and accuracy: 0.534409701824\n",
      "10 Mutator loss: 0.674385607243 \t and mut loss: -0.486992895603\n",
      "10 Discriminator loss: 1.29739141464 \t and accuracy: 0.534727871418\n",
      "11 Mutator loss: 0.679576098919 \t and mut loss: -0.49095582962\n",
      "11 Discriminator loss: 1.2952747345 \t and accuracy: 0.535807609558\n",
      "12 Mutator loss: 0.680429160595 \t and mut loss: -0.488550245762\n",
      "12 Discriminator loss: 1.29688978195 \t and accuracy: 0.535134196281\n",
      "13 Mutator loss: 0.677550792694 \t and mut loss: -0.488604962826\n",
      "13 Discriminator loss: 1.29706549644 \t and accuracy: 0.534734845161\n",
      "14 Mutator loss: 0.673299014568 \t and mut loss: -0.490462571383\n",
      "14 Discriminator loss: 1.29834675789 \t and accuracy: 0.533612191677\n",
      "15 Mutator loss: 0.674525618553 \t and mut loss: -0.490932106972\n",
      "15 Discriminator loss: 1.29611575603 \t and accuracy: 0.534729719162\n",
      "16 Mutator loss: 0.677006244659 \t and mut loss: -0.489171296358\n",
      "16 Discriminator loss: 1.29637718201 \t and accuracy: 0.534678936005\n",
      "17 Mutator loss: 0.678173899651 \t and mut loss: -0.488399595022\n",
      "17 Discriminator loss: 1.29641246796 \t and accuracy: 0.534645020962\n",
      "18 Mutator loss: 0.674801647663 \t and mut loss: -0.488038122654\n",
      "18 Discriminator loss: 1.29760611057 \t and accuracy: 0.533824145794\n",
      "19 Mutator loss: 0.677840590477 \t and mut loss: -0.487825661898\n",
      "19 Discriminator loss: 1.29767155647 \t and accuracy: 0.534072101116\n",
      "20 Mutator loss: 0.679928719997 \t and mut loss: -0.486498862505\n",
      "20 Discriminator loss: 1.29694747925 \t and accuracy: 0.534594893456\n",
      "21 Mutator loss: 0.676425337791 \t and mut loss: -0.486841052771\n",
      "21 Discriminator loss: 1.29922235012 \t and accuracy: 0.533323705196\n",
      "22 Mutator loss: 0.675934076309 \t and mut loss: -0.489436984062\n",
      "22 Discriminator loss: 1.29690027237 \t and accuracy: 0.533966064453\n",
      "23 Mutator loss: 0.67704230547 \t and mut loss: -0.488478660583\n",
      "23 Discriminator loss: 1.29886293411 \t and accuracy: 0.533517062664\n",
      "24 Mutator loss: 0.675454497337 \t and mut loss: -0.489411830902\n",
      "24 Discriminator loss: 1.29852867126 \t and accuracy: 0.533319473267\n"
     ]
    },
    {
     "ename": "KeyboardInterrupt",
     "evalue": "",
     "output_type": "error",
     "traceback": [
      "\u001b[0;31m---------------------------------------------------------------------------\u001b[0m",
      "\u001b[0;31mKeyboardInterrupt\u001b[0m                         Traceback (most recent call last)",
      "\u001b[0;32m<ipython-input-370-c6bc9ae9848c>\u001b[0m in \u001b[0;36m<module>\u001b[0;34m()\u001b[0m\n\u001b[1;32m      6\u001b[0m         _, D_loss_curr, _ = sess.run([D_solver, D_loss, clip_D], \n\u001b[1;32m      7\u001b[0m                                      feed_dict={inp: xt, tau: temperature})\n\u001b[0;32m----> 8\u001b[0;31m     \u001b[0mM_loss_curr\u001b[0m\u001b[0;34m,\u001b[0m \u001b[0macc\u001b[0m\u001b[0;34m,\u001b[0m \u001b[0mnp_mutloss\u001b[0m \u001b[0;34m=\u001b[0m \u001b[0msess\u001b[0m\u001b[0;34m.\u001b[0m\u001b[0mrun\u001b[0m\u001b[0;34m(\u001b[0m\u001b[0;34m[\u001b[0m\u001b[0mM_loss\u001b[0m\u001b[0;34m,\u001b[0m \u001b[0mdisc_acc\u001b[0m\u001b[0;34m,\u001b[0m \u001b[0mmutator_loss\u001b[0m\u001b[0;34m]\u001b[0m\u001b[0;34m,\u001b[0m \u001b[0mfeed_dict\u001b[0m\u001b[0;34m=\u001b[0m\u001b[0;34m{\u001b[0m\u001b[0minp\u001b[0m\u001b[0;34m:\u001b[0m \u001b[0mxt\u001b[0m\u001b[0;34m,\u001b[0m \u001b[0mtau\u001b[0m\u001b[0;34m:\u001b[0m \u001b[0mtemperature\u001b[0m\u001b[0;34m}\u001b[0m\u001b[0;34m)\u001b[0m\u001b[0;34m\u001b[0m\u001b[0m\n\u001b[0m\u001b[1;32m      9\u001b[0m \u001b[0;34m\u001b[0m\u001b[0m\n\u001b[1;32m     10\u001b[0m     \u001b[0;32mprint\u001b[0m\u001b[0;34m(\u001b[0m\u001b[0;34m'{} Mutator loss: {} \\t and mut loss: {}'\u001b[0m\u001b[0;34m.\u001b[0m\u001b[0mformat\u001b[0m\u001b[0;34m(\u001b[0m\u001b[0mit\u001b[0m\u001b[0;34m,\u001b[0m \u001b[0mM_loss_curr\u001b[0m\u001b[0;34m,\u001b[0m \u001b[0mnp_mutloss\u001b[0m\u001b[0;34m)\u001b[0m\u001b[0;34m)\u001b[0m\u001b[0;34m\u001b[0m\u001b[0m\n",
      "\u001b[0;32m/Users/umut/dlvenv/lib/python2.7/site-packages/tensorflow/python/client/session.pyc\u001b[0m in \u001b[0;36mrun\u001b[0;34m(self, fetches, feed_dict, options, run_metadata)\u001b[0m\n\u001b[1;32m    787\u001b[0m     \u001b[0;32mtry\u001b[0m\u001b[0;34m:\u001b[0m\u001b[0;34m\u001b[0m\u001b[0m\n\u001b[1;32m    788\u001b[0m       result = self._run(None, fetches, feed_dict, options_ptr,\n\u001b[0;32m--> 789\u001b[0;31m                          run_metadata_ptr)\n\u001b[0m\u001b[1;32m    790\u001b[0m       \u001b[0;32mif\u001b[0m \u001b[0mrun_metadata\u001b[0m\u001b[0;34m:\u001b[0m\u001b[0;34m\u001b[0m\u001b[0m\n\u001b[1;32m    791\u001b[0m         \u001b[0mproto_data\u001b[0m \u001b[0;34m=\u001b[0m \u001b[0mtf_session\u001b[0m\u001b[0;34m.\u001b[0m\u001b[0mTF_GetBuffer\u001b[0m\u001b[0;34m(\u001b[0m\u001b[0mrun_metadata_ptr\u001b[0m\u001b[0;34m)\u001b[0m\u001b[0;34m\u001b[0m\u001b[0m\n",
      "\u001b[0;32m/Users/umut/dlvenv/lib/python2.7/site-packages/tensorflow/python/client/session.pyc\u001b[0m in \u001b[0;36m_run\u001b[0;34m(self, handle, fetches, feed_dict, options, run_metadata)\u001b[0m\n\u001b[1;32m    995\u001b[0m     \u001b[0;32mif\u001b[0m \u001b[0mfinal_fetches\u001b[0m \u001b[0;32mor\u001b[0m \u001b[0mfinal_targets\u001b[0m\u001b[0;34m:\u001b[0m\u001b[0;34m\u001b[0m\u001b[0m\n\u001b[1;32m    996\u001b[0m       results = self._do_run(handle, final_targets, final_fetches,\n\u001b[0;32m--> 997\u001b[0;31m                              feed_dict_string, options, run_metadata)\n\u001b[0m\u001b[1;32m    998\u001b[0m     \u001b[0;32melse\u001b[0m\u001b[0;34m:\u001b[0m\u001b[0;34m\u001b[0m\u001b[0m\n\u001b[1;32m    999\u001b[0m       \u001b[0mresults\u001b[0m \u001b[0;34m=\u001b[0m \u001b[0;34m[\u001b[0m\u001b[0;34m]\u001b[0m\u001b[0;34m\u001b[0m\u001b[0m\n",
      "\u001b[0;32m/Users/umut/dlvenv/lib/python2.7/site-packages/tensorflow/python/client/session.pyc\u001b[0m in \u001b[0;36m_do_run\u001b[0;34m(self, handle, target_list, fetch_list, feed_dict, options, run_metadata)\u001b[0m\n\u001b[1;32m   1130\u001b[0m     \u001b[0;32mif\u001b[0m \u001b[0mhandle\u001b[0m \u001b[0;32mis\u001b[0m \u001b[0mNone\u001b[0m\u001b[0;34m:\u001b[0m\u001b[0;34m\u001b[0m\u001b[0m\n\u001b[1;32m   1131\u001b[0m       return self._do_call(_run_fn, self._session, feed_dict, fetch_list,\n\u001b[0;32m-> 1132\u001b[0;31m                            target_list, options, run_metadata)\n\u001b[0m\u001b[1;32m   1133\u001b[0m     \u001b[0;32melse\u001b[0m\u001b[0;34m:\u001b[0m\u001b[0;34m\u001b[0m\u001b[0m\n\u001b[1;32m   1134\u001b[0m       return self._do_call(_prun_fn, self._session, handle, feed_dict,\n",
      "\u001b[0;32m/Users/umut/dlvenv/lib/python2.7/site-packages/tensorflow/python/client/session.pyc\u001b[0m in \u001b[0;36m_do_call\u001b[0;34m(self, fn, *args)\u001b[0m\n\u001b[1;32m   1137\u001b[0m   \u001b[0;32mdef\u001b[0m \u001b[0m_do_call\u001b[0m\u001b[0;34m(\u001b[0m\u001b[0mself\u001b[0m\u001b[0;34m,\u001b[0m \u001b[0mfn\u001b[0m\u001b[0;34m,\u001b[0m \u001b[0;34m*\u001b[0m\u001b[0margs\u001b[0m\u001b[0;34m)\u001b[0m\u001b[0;34m:\u001b[0m\u001b[0;34m\u001b[0m\u001b[0m\n\u001b[1;32m   1138\u001b[0m     \u001b[0;32mtry\u001b[0m\u001b[0;34m:\u001b[0m\u001b[0;34m\u001b[0m\u001b[0m\n\u001b[0;32m-> 1139\u001b[0;31m       \u001b[0;32mreturn\u001b[0m \u001b[0mfn\u001b[0m\u001b[0;34m(\u001b[0m\u001b[0;34m*\u001b[0m\u001b[0margs\u001b[0m\u001b[0;34m)\u001b[0m\u001b[0;34m\u001b[0m\u001b[0m\n\u001b[0m\u001b[1;32m   1140\u001b[0m     \u001b[0;32mexcept\u001b[0m \u001b[0merrors\u001b[0m\u001b[0;34m.\u001b[0m\u001b[0mOpError\u001b[0m \u001b[0;32mas\u001b[0m \u001b[0me\u001b[0m\u001b[0;34m:\u001b[0m\u001b[0;34m\u001b[0m\u001b[0m\n\u001b[1;32m   1141\u001b[0m       \u001b[0mmessage\u001b[0m \u001b[0;34m=\u001b[0m \u001b[0mcompat\u001b[0m\u001b[0;34m.\u001b[0m\u001b[0mas_text\u001b[0m\u001b[0;34m(\u001b[0m\u001b[0me\u001b[0m\u001b[0;34m.\u001b[0m\u001b[0mmessage\u001b[0m\u001b[0;34m)\u001b[0m\u001b[0;34m\u001b[0m\u001b[0m\n",
      "\u001b[0;32m/Users/umut/dlvenv/lib/python2.7/site-packages/tensorflow/python/client/session.pyc\u001b[0m in \u001b[0;36m_run_fn\u001b[0;34m(session, feed_dict, fetch_list, target_list, options, run_metadata)\u001b[0m\n\u001b[1;32m   1119\u001b[0m         return tf_session.TF_Run(session, options,\n\u001b[1;32m   1120\u001b[0m                                  \u001b[0mfeed_dict\u001b[0m\u001b[0;34m,\u001b[0m \u001b[0mfetch_list\u001b[0m\u001b[0;34m,\u001b[0m \u001b[0mtarget_list\u001b[0m\u001b[0;34m,\u001b[0m\u001b[0;34m\u001b[0m\u001b[0m\n\u001b[0;32m-> 1121\u001b[0;31m                                  status, run_metadata)\n\u001b[0m\u001b[1;32m   1122\u001b[0m \u001b[0;34m\u001b[0m\u001b[0m\n\u001b[1;32m   1123\u001b[0m     \u001b[0;32mdef\u001b[0m \u001b[0m_prun_fn\u001b[0m\u001b[0;34m(\u001b[0m\u001b[0msession\u001b[0m\u001b[0;34m,\u001b[0m \u001b[0mhandle\u001b[0m\u001b[0;34m,\u001b[0m \u001b[0mfeed_dict\u001b[0m\u001b[0;34m,\u001b[0m \u001b[0mfetch_list\u001b[0m\u001b[0;34m)\u001b[0m\u001b[0;34m:\u001b[0m\u001b[0;34m\u001b[0m\u001b[0m\n",
      "\u001b[0;31mKeyboardInterrupt\u001b[0m: "
     ]
    }
   ],
   "source": [
    "batcher = get_batch(hg38, batch_size=50)\n",
    "temperature = 1.\n",
    "for it in range(1000000):\n",
    "    for _ in range(10):\n",
    "        xt= batcher.next()\n",
    "        _, D_loss_curr, _ = sess.run([D_solver, D_loss, clip_D], \n",
    "                                     feed_dict={inp: xt, tau: temperature})\n",
    "    _ M_loss_curr, acc, np_mutloss = sess.run([M_solver, M_loss, disc_acc, mutator_loss], feed_dict={inp: xt, tau: temperature})\n",
    "    \n",
    "    print('{} Mutator loss: {} \\t and mut loss: {}'.format(it, M_loss_curr, np_mutloss))\n",
    "    print('{} Discriminator loss: {} \\t and accuracy: {}'.format(it, D_loss_curr, acc))"
   ]
  },
  {
   "cell_type": "code",
   "execution_count": 358,
   "metadata": {
    "collapsed": false
   },
   "outputs": [
    {
     "name": "stdout",
     "output_type": "stream",
     "text": [
      "1.26565 0.53267\n"
     ]
    }
   ],
   "source": [
    "D_loss_curr, npmut, acc = sess.run([D_loss, mutant, disc_acc], \n",
    "                                     feed_dict={inp: xt, tau: temperature})\n",
    "print D_loss_curr, acc"
   ]
  },
  {
   "cell_type": "code",
   "execution_count": 348,
   "metadata": {
    "collapsed": false
   },
   "outputs": [
    {
     "data": {
      "text/plain": [
       "(0.057175327, 0.25022714215736841)"
      ]
     },
     "execution_count": 348,
     "metadata": {},
     "output_type": "execute_result"
    }
   ],
   "source": [
    "-np.mean(xt*np.log(npmut)), -np.mean(xt*np.log(np.random.uniform(0,1, xt.shape)))"
   ]
  },
  {
   "cell_type": "code",
   "execution_count": 364,
   "metadata": {
    "collapsed": false
   },
   "outputs": [
    {
     "name": "stdout",
     "output_type": "stream",
     "text": [
      "[[0 0 1 0 1 0 0 1 0 0 1 0 0 0 0 0 0 0 0 0]\n",
      " [1 0 0 0 0 1 0 0 1 0 0 0 0 1 1 0 0 0 0 0]\n",
      " [0 1 0 1 0 0 0 0 0 0 0 1 0 0 0 0 1 1 0 1]\n",
      " [0 0 0 0 0 0 1 0 0 1 0 0 1 0 0 1 0 0 1 0]]\n",
      "\n",
      "\n",
      "[[0 0 0 0 0 1 0 0 0 0 0 1 0 0 0 1 0 0 0 0]\n",
      " [0 1 1 1 0 0 0 0 0 1 1 0 0 0 0 0 0 0 1 0]\n",
      " [0 0 0 0 1 0 1 0 0 0 0 0 1 0 1 0 0 0 0 0]\n",
      " [1 0 0 0 0 0 0 1 1 0 0 0 0 1 0 0 1 1 0 1]]\n"
     ]
    }
   ],
   "source": [
    "print np.equal(npmut[0,:,:20,0],npmut[0,:,:20,0].max(0)).astype(int)\n",
    "print '\\n'\n",
    "print xt[0,:,:20,0].astype(int)"
   ]
  },
  {
   "cell_type": "code",
   "execution_count": 217,
   "metadata": {
    "collapsed": false
   },
   "outputs": [
    {
     "data": {
      "image/png": "[encoded data removed]",
      "text/plain": [
       "<matplotlib.figure.Figure at 0x1216ed510>"
      ]
     },
     "metadata": {},
     "output_type": "display_data"
    },
    {
     "data": {
      "text/plain": [
       "<matplotlib.image.AxesImage at 0x1220e0390>"
      ]
     },
     "execution_count": 217,
     "metadata": {},
     "output_type": "execute_result"
    },
    {
     "data": {
      "image/png": "[encoded data removed]",
      "text/plain": [
       "<matplotlib.figure.Figure at 0x121559110>"
      ]
     },
     "metadata": {},
     "output_type": "display_data"
    }
   ],
   "source": [
    "pl.imshow(mutr)\n",
    "pl.show()\n",
    "pl.imshow(lgts, aspect='auto')"
   ]
  },
  {
   "cell_type": "code",
   "execution_count": 111,
   "metadata": {
    "collapsed": false
   },
   "outputs": [
    {
     "data": {
      "text/plain": [
       "array([[-0.20469926,  0.0571753 ],\n",
       "       [-0.21424793,  0.03548675],\n",
       "       [-0.16742229,  0.02762589],\n",
       "       [-0.20520927, -0.03365123],\n",
       "       [-0.14130846, -0.06362843]], dtype=float32)"
      ]
     },
     "execution_count": 111,
     "metadata": {},
     "output_type": "execute_result"
    }
   ],
   "source": [
    "lgts = sess.run(nonmutant_logits,feed_dict={inp:x})\n",
    "lgts"
   ]
  },
  {
   "cell_type": "code",
   "execution_count": null,
   "metadata": {
    "collapsed": true
   },
   "outputs": [],
   "source": []
  },
  {
   "cell_type": "code",
   "execution_count": 64,
   "metadata": {
    "collapsed": false
   },
   "outputs": [
    {
     "data": {
      "text/plain": [
       "array([[  8.04288617e-08,   2.40806660e-16,   1.17593041e-26,\n",
       "          1.41943000e-10,   3.33094404e-09,   1.24746515e-35,\n",
       "          3.15020312e-01,   2.83003309e-64,   1.38237958e-44,\n",
       "          3.16241214e-11],\n",
       "       [  1.31899414e-02,   3.26509884e-06,   1.00000000e+00,\n",
       "          3.54041221e-11,   7.16227336e-17,   1.00000000e+00,\n",
       "          3.94992454e-03,   8.97890337e-62,   3.25844867e-57,\n",
       "          3.40193123e-03],\n",
       "       [  4.65046683e-09,   6.87975006e-09,   4.79601400e-22,\n",
       "          1.00000000e+00,   2.07369827e-12,   1.44908315e-42,\n",
       "          6.81029763e-01,   1.00000000e+00,   1.00000000e+00,\n",
       "          9.96598069e-01],\n",
       "       [  9.86809974e-01,   9.99996728e-01,   7.36527069e-25,\n",
       "          1.37109436e-17,   9.99999997e-01,   2.49000933e-44,\n",
       "          4.73925460e-33,   1.10540607e-64,   5.58234886e-61,\n",
       "          6.62819793e-11]])"
      ]
     },
     "execution_count": 64,
     "metadata": {},
     "output_type": "execute_result"
    }
   ],
   "source": [
    "loss = sparse_softmax_cross_entropy_with_logits(logits=mutant_logits, labels=)"
   ]
  },
  {
   "cell_type": "code",
   "execution_count": 66,
   "metadata": {
    "collapsed": true
   },
   "outputs": [],
   "source": [
    "?tf.nn.softmax\n"
   ]
  },
  {
   "cell_type": "code",
   "execution_count": 2,
   "metadata": {
    "collapsed": false
   },
   "outputs": [],
   "source": []
  },
  {
   "cell_type": "code",
   "execution_count": null,
   "metadata": {
    "collapsed": true
   },
   "outputs": [],
   "source": []
  }
 ],
 "metadata": {
  "kernelspec": {
   "display_name": "Python 2",
   "language": "python",
   "name": "python2"
  },
  "language_info": {
   "codemirror_mode": {
    "name": "ipython",
    "version": 2
   },
   "file_extension": ".py",
   "mimetype": "text/x-python",
   "name": "python",
   "nbconvert_exporter": "python",
   "pygments_lexer": "ipython2",
   "version": "2.7.11"
  }
 },
 "nbformat": 4,
 "nbformat_minor": 2
}
