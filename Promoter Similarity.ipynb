{
 "cells": [
  {
   "cell_type": "markdown",
   "metadata": {},
   "source": [
    "# Promoter Similarity Between Species  \n",
    "\n",
    "Here, we make an effort to understand why certain promoters show high probabilities of being classified as more than one species. The following are possible approaches we can take to address this problem...  \n",
    "\n",
    "Using Model Prediction Probabilities  \n",
    "1) get probability values from model output and identify promoters whose outputs have 2+ high probability values  \n",
    "2) perform GSEA on identified promoteres  \n",
    "\n",
    "Using Representation Space  \n",
    "1) get representation layers for all promoters  \n",
    "2) use PCA or tSNE to get projections of the representations for each promoter  \n",
    "3) use Gaussian mixture models to determine genes w/ high probabilities of belonging to 2+ clusters  "
   ]
  },
  {
   "cell_type": "markdown",
   "metadata": {},
   "source": [
    "## Mouse and Human Promoters"
   ]
  },
  {
   "cell_type": "code",
   "execution_count": 1,
   "metadata": {
    "collapsed": false
   },
   "outputs": [
    {
     "name": "stderr",
     "output_type": "stream",
     "text": [
      "Using TensorFlow backend.\n"
     ]
    }
   ],
   "source": [
    "execfile('analysis.py')\n",
    "execfile('plots.py')"
   ]
  },
  {
   "cell_type": "code",
   "execution_count": null,
   "metadata": {
    "collapsed": true
   },
   "outputs": [],
   "source": [
    "model_name = 'Mouse_Human_dense_model' # model is densely connected network\n",
    "model_dir = 'results/Mouse_Human/'\n",
    "testdata_file = 'data/h5datasets/Mouse_Human/all.h5'\n",
    "\n",
    "# get representations for all genes and write to file\n",
    "get_representations(model_name,model_dir,testdata_file,write2file=True)\n",
    "\n",
    "# get predictions for all genes\n",
    "getPredictions(model_name,model_dir,testdata_file,['Mouse','Human'])"
   ]
  },
  {
   "cell_type": "code",
   "execution_count": 2,
   "metadata": {
    "collapsed": true
   },
   "outputs": [],
   "source": [
    "# project representations onto PCs and write projections to file\n",
    "representation_file = 'results/Mouse_Human/Mouse_Human_dense_allgenes_rep.txt'\n",
    "output_file = 'results/Mouse_Human/Mouse_Human_dense_allgenes_repPCA.txt'\n",
    "write_projection(representation_file,output_file,method='PCA')"
   ]
  },
  {
   "cell_type": "code",
   "execution_count": null,
   "metadata": {
    "collapsed": true
   },
   "outputs": [],
   "source": [
    "# project representations onto tSNE dimensions and write projections to file\n",
    "representation_file = 'results/Mouse_Human/Mouse_Human_dense_allgenes_rep.txt'\n",
    "output_file = 'results/Mouse_Human/Mouse_Human_dense_allgenes_reptSNE.txt'\n",
    "write_projection(representation_file,output_file,method='tSNE')"
   ]
  },
  {
   "cell_type": "markdown",
   "metadata": {},
   "source": [
    "### Neural Network Prediction Analysis"
   ]
  },
  {
   "cell_type": "code",
   "execution_count": null,
   "metadata": {
    "collapsed": true
   },
   "outputs": [],
   "source": [
    "model_name = 'Mouse_Human_dense_model' # model is densely connected network\n",
    "model_dir = 'results/Mouse_Human/'\n",
    "testdata_file = 'data/h5datasets/Mouse_Human/all.h5'\n",
    "label_names = ['Mouse','Human']\n",
    "\n",
    "# get predictions for all genes and write predictions to file\n",
    "getPredictions(model_name,model_dir,testdata_file,label_names,write2file=True)"
   ]
  },
  {
   "cell_type": "code",
   "execution_count": 1,
   "metadata": {
    "collapsed": false
   },
   "outputs": [
    {
     "name": "stderr",
     "output_type": "stream",
     "text": [
      "Using TensorFlow backend.\n"
     ]
    }
   ],
   "source": [
    "execfile('analysis.py')\n",
    "species_list = ['Mouse','Human']\n",
    "predProb_file = 'results/clustering/pred_probs/Mouse_Human_dense_model_predProbs.txt'\n",
    "h5_file = 'data/h5datasets/Mouse_Human/all.h5'\n",
    "genes_dict = getUncertainPredictions(predProb_file,h5_file,species_list,prob_threshold=0.45)"
   ]
  },
  {
   "cell_type": "code",
   "execution_count": 2,
   "metadata": {
    "collapsed": true
   },
   "outputs": [],
   "source": [
    "# write \"uncertain\" Mouse genes to file \n",
    "f = open('Mouse_Human_uncertainMouse.txt','w')\n",
    "for gene in genes_dict['Mouse']:\n",
    "    f.write(str(gene) + '\\n')\n",
    "f.close()\n",
    "\n",
    "# write \"uncertain\" Human genes to file \n",
    "f = open('Mouse_Human_uncertainHuman.txt','w')\n",
    "for gene in genes_dict['Human']:\n",
    "    f.write(str(gene) + '\\n')\n",
    "f.close()"
   ]
  },
  {
   "cell_type": "markdown",
   "metadata": {},
   "source": [
    "#### Gene Set Enrichment Analysis - Uncertain Predictions (Threshold: 45%) \n",
    "\n",
    "Tool: PantherDB (from Gene Ontology website)  \n",
    "Annotation Dataset: GO biological processes  \n",
    "\n",
    "**Human:** enrichment for...nothing...  \n",
    "\n",
    "**Mouse:** enrichment for...  \n",
    "- response to oxygen-containing compound (244 vs. 175.76, expected | p-value: 2.10e-03)  \n",
    "- establishment of protein localization (240 vs. 176.87, expected | p-value: 1.38e-02)  \n",
    "- cellular response to stress (265 vs. 196.69, expected | 6.55e-03)  \n",
    "... (skip to interesting ones) \n",
    "- regulation of multicellular organismal process\n",
    "- regulation of developmental process \n",
    "- animal organ development  \n",
    "(see results/clustering/GSEA for more enriched terms)  "
   ]
  },
  {
   "cell_type": "code",
   "execution_count": 1,
   "metadata": {
    "collapsed": false
   },
   "outputs": [
    {
     "name": "stderr",
     "output_type": "stream",
     "text": [
      "Using TensorFlow backend.\n"
     ]
    }
   ],
   "source": [
    "execfile('analysis.py')\n",
    "species_list = ['Mouse','Human']\n",
    "predProb_file = 'results/clustering/pred_probs/Mouse_Human_dense_model_predProbs.txt'\n",
    "h5_file = 'data/h5datasets/Mouse_Human/all.h5'\n",
    "genes_dict = getCertainPredictions(predProb_file,h5_file,species_list,prob_threshold=0.95)"
   ]
  },
  {
   "cell_type": "code",
   "execution_count": 2,
   "metadata": {
    "collapsed": true
   },
   "outputs": [],
   "source": [
    "# write \"uncertain\" Mouse genes to file \n",
    "f = open('Mouse_Human_certainMouse.txt','w')\n",
    "for gene in genes_dict['Mouse']:\n",
    "    f.write(str(gene) + '\\n')\n",
    "f.close()\n",
    "\n",
    "# write \"uncertain\" Human genes to file \n",
    "f = open('Mouse_Human_certainHuman.txt','w')\n",
    "for gene in genes_dict['Human']:\n",
    "    f.write(str(gene) + '\\n')\n",
    "f.close()"
   ]
  },
  {
   "cell_type": "markdown",
   "metadata": {},
   "source": [
    "#### Gene Set Enrichment Analysis - Certain Predictions (Threshold: 95%) \n",
    "\n",
    "Tool: PantherDB (from Gene Ontology website)  \n",
    "Annotation Dataset: GO biological processes  \n",
    "\n",
    "**Human:** enrichment for...\n",
    "- cellular macromolecule catabolic process  \n",
    "- organonitrogen compound catabolic process  \n",
    "- cellular response to stress  \n",
    "- nucleic acid metabolic process  \n",
    "- cellular nitrogen compound biosynthetic process  \n",
    "... (some more)  \n",
    "\n",
    "**Mouse:** enrichment for...  \n",
    "- meiotic cell cycle  \n",
    "\n",
    "(see results/clustering/GSEA for more enriched terms)  "
   ]
  },
  {
   "cell_type": "markdown",
   "metadata": {},
   "source": [
    "### Between Clusters Analysis"
   ]
  },
  {
   "cell_type": "code",
   "execution_count": 3,
   "metadata": {
    "collapsed": false
   },
   "outputs": [],
   "source": [
    "# use Gaussian mixture models to identify genes that exist \"between\" clusters in representational space\n",
    "data_file = 'results/Mouse_Human/Mouse_Human_dense_allgenes_repPCA.txt'\n",
    "h5_file = 'data/h5datasets/Mouse_Human/all.h5'\n",
    "num_clusters = 2\n",
    "betw_genes = GMM_analysis(data_file,h5_file,num_clusters,prob_threshold=0.4)"
   ]
  },
  {
   "cell_type": "code",
   "execution_count": 4,
   "metadata": {
    "collapsed": true
   },
   "outputs": [],
   "source": [
    "# write genes \"between\" clusters to file\n",
    "import csv\n",
    "\n",
    "f = open('Mouse_Human_betwClusters.txt','w')\n",
    "for gene in betw_genes.values()[0]:\n",
    "    f.write(str(gene) + '\\n')\n",
    "f.close()"
   ]
  },
  {
   "cell_type": "code",
   "execution_count": 5,
   "metadata": {
    "collapsed": false
   },
   "outputs": [],
   "source": [
    "# identify species to which each genes belongs and write genes to separate files\n",
    "allGenes = []\n",
    "f = open('Mouse_Human_betwClusters.txt','r')\n",
    "reader = csv.reader(f,delimiter='\\t')\n",
    "for line in reader:\n",
    "    allGenes.append(line[0])\n",
    "f.close()\n",
    "\n",
    "# human promoters\n",
    "humanPromoter_data = 'data/my_promoters/Human1000.fa.txt'\n",
    "f = open(humanPromoter_data,'r')\n",
    "reader = csv.reader(f,delimiter=' ')\n",
    "\n",
    "g = open('Mouse_Human_betwClustersHumans.txt','w')\n",
    "for line in reader:\n",
    "    if '>' in line[0]:\n",
    "        if line[1].lower() in allGenes:\n",
    "            g.write(line[1] + '\\n')\n",
    "f.close()\n",
    "g.close()\n",
    "\n",
    "# mouse promoters\n",
    "mousePromoter_data = 'data/my_promoters/Mouse1000.fa.txt'\n",
    "f = open(mousePromoter_data,'r')\n",
    "reader = csv.reader(f,delimiter=' ')\n",
    "\n",
    "g = open('Mouse_Human_betwClustersMouse.txt','w')\n",
    "for line in reader:\n",
    "    if '>' in line[0]:\n",
    "        if line[1].lower() in allGenes:\n",
    "            g.write(line[1] + '\\n')\n",
    "f.close()\n",
    "g.close()"
   ]
  },
  {
   "cell_type": "markdown",
   "metadata": {},
   "source": [
    "#### Gene Set Enrichment Analysis (w/ 2 prinicipal components)\n",
    "\n",
    "Tool: PantherDB (from Gene Ontology website)  \n",
    "Annotation Dataset: GO biological processes  \n",
    "\n",
    "**Human:** enrichment for...  \n",
    "- cellular nitrogen compound metabolic process (324 vs. 259.49, expected | p-value: 3.41e-02)  \n",
    "\n",
    "**Mouse:** enrichment for...  \n",
    "- positive regulation of gene expression (129 vs. 77.73, expected | p-value: 1.29e-04)  \n",
    "- positive regulation of RNA metabolic process (104 vs. 65.16, expected | p-value: 2.08e-02)  \n",
    "- regulation of transcription from RNA polymerase II promoter (125 vs. 81.84 | p-value: 1.65e-02)  \n",
    "(see results/clustering/GSEA for more enriched terms)  "
   ]
  },
  {
   "cell_type": "code",
   "execution_count": 1,
   "metadata": {
    "collapsed": false
   },
   "outputs": [
    {
     "data": {
      "image/png": "[encoded data removed]",
      "text/plain": [
       "<matplotlib.figure.Figure at 0x114c5b550>"
      ]
     },
     "metadata": {},
     "output_type": "display_data"
    }
   ],
   "source": [
    "%matplotlib inline\n",
    "execfile('plots.py')\n",
    "X = np.loadtxt('results/Mouse_Human/Mouse_Human_dense_allgenes_repPCA.txt',delimiter='\\t')\n",
    "metadata_file = 'results/Mouse_Human/Mouse_Human_allgenes_metadata.tsv'\n",
    "num_clusters = 2\n",
    "plot_bygroup(X,metadata_file,num_clusters)"
   ]
  },
  {
   "cell_type": "markdown",
   "metadata": {
    "collapsed": false
   },
   "source": [
    "# Representation Space Clusters\n",
    "\n",
    "Here, we simply project the representation vectors obtained from model training onto a lower-dimensional space using one of the dimensionality reduction algorithms (i.e. PCA or tSNE). We use Tensorflow Project to execute these algorithms and visualize the projected data. We then identify \"interesting\" clusters that appear in our visusalizations and run gene set enrichment analysis on the genes that belong to these clusters.  \n",
    "\n",
    "Functional Annotation Tool: DAVID  \n",
    "\n",
    "Below are the results that we observed by using the Tensorflow Projector tool. Unfortunately, the tool has a few limitations. Firstly, when performing tSNE, it limits the number of points to 10,000, so in our larger datasets, we are unable to using this dimensionality reduction technique to observe clusters for a sizable proportion of our data. In addition, while the bounding box feature is great for identifying clusters that we observe with the human eye, when using the 3D visualization of our results, the bounding box only picks up the points that appear at the \"front\" of our visualization. Therefore, even if we can distinctly identify a cluster after the tSNE algorithm is stopped, it is difficult to capture the entire 3D structure. Nevertheless, we attempt to use these features to see if we the clusters that we identify from tSNE are meaningful with respect to enriched gene sets or functional annotations.  "
   ]
  },
  {
   "cell_type": "code",
   "execution_count": 5,
   "metadata": {
    "collapsed": false
   },
   "outputs": [
    {
     "data": {
      "text/html": [
       "<tr><td><img src='results/clustering/TFProjDAVID/DAVID_all10binAllGenes.png'></td><td><img src='results/clustering/TFProjDAVID/DAVID_all10binAllGenesHumanCluster_funcAnnot.png'></td></tr>"
      ],
      "text/plain": [
       "<IPython.core.display.HTML object>"
      ]
     },
     "metadata": {},
     "output_type": "display_data"
    }
   ],
   "source": [
    "from IPython.display import HTML, display\n",
    "display(HTML(\"<tr><td><img src='results/clustering/TFProjDAVID/DAVID_all10binAllGenes.png'></td><td><img src='results/clustering/TFProjDAVID/DAVID_all10binAllGenesHumanCluster_funcAnnot.png'></td></tr>\"))  "
   ]
  },
  {
   "cell_type": "code",
   "execution_count": 6,
   "metadata": {
    "collapsed": false
   },
   "outputs": [
    {
     "data": {
      "text/html": [
       "<tr><td><img src='results/clustering/TFProjDAVID/DAVID_all10binAllGenesMouseHuman.png'></td></tr>"
      ],
      "text/plain": [
       "<IPython.core.display.HTML object>"
      ]
     },
     "metadata": {},
     "output_type": "display_data"
    },
    {
     "data": {
      "text/html": [
       "<tr><td><img src='results/clustering/TFProjDAVID/DAVID_all10binAllGenes_MouseHuman_MouseCluster_funcAnnotClustering.png'></td><td><img src='results/clustering/TFProjDAVID/DAVID_all10binAllGenes_MouseHuman_MouseCluster_funcAnnot.png'></td></tr>"
      ],
      "text/plain": [
       "<IPython.core.display.HTML object>"
      ]
     },
     "metadata": {},
     "output_type": "display_data"
    }
   ],
   "source": [
    "from IPython.display import HTML, display\n",
    "display(HTML(\"<tr><td><img src='results/clustering/TFProjDAVID/DAVID_all10binAllGenesMouseHuman.png'></td></tr>\"))  \n",
    "display(HTML(\"<tr><td><img src='results/clustering/TFProjDAVID/DAVID_all10binAllGenes_MouseHuman_MouseCluster_funcAnnotClustering.png'></td><td><img src='results/clustering/TFProjDAVID/DAVID_all10binAllGenes_MouseHuman_MouseCluster_funcAnnot.png'></td></tr>\"))  \n"
   ]
  },
  {
   "cell_type": "code",
   "execution_count": 7,
   "metadata": {
    "collapsed": false
   },
   "outputs": [
    {
     "data": {
      "text/html": [
       "<tr><td><img src='results/clustering/TFProjDAVID/DAVID_all10binAllGenesMouseHuman2.png'></td><td><img src='results/clustering/TFProjDAVID/DAVID_all10binAllGenes_MouseHuman_HumanCluster_funcAnnot.png'></td></tr>"
      ],
      "text/plain": [
       "<IPython.core.display.HTML object>"
      ]
     },
     "metadata": {},
     "output_type": "display_data"
    }
   ],
   "source": [
    "display(HTML(\"<tr><td><img src='results/clustering/TFProjDAVID/DAVID_all10binAllGenesMouseHuman2.png'></td><td><img src='results/clustering/TFProjDAVID/DAVID_all10binAllGenes_MouseHuman_HumanCluster_funcAnnot.png'></td></tr>\"))  "
   ]
  },
  {
   "cell_type": "markdown",
   "metadata": {},
   "source": [
    "------\n",
    "In order to combat the small data size issue with Tensorflow Projector, we seek to limit the number of genes that we include in our dataset for dimensionality reduction with tSNE. We obtain a list of annotated genes from the Gene Ontology website (Downloads -> Annotations) for Human (19,451 genes) and Mouse (24,492).  \n",
    "\n",
    "**(CAN IGNORE THIS SECTION FOR NOW...SEE BELOW FOR WAYS WE WORKED AROUND THIS PROBLEM)**\n",
    "\n"
   ]
  },
  {
   "cell_type": "code",
   "execution_count": 1,
   "metadata": {
    "collapsed": true
   },
   "outputs": [],
   "source": [
    "import csv\n",
    "\n",
    "def geneList(annotationFile):\n",
    "    f = open(annotationFile,'r')\n",
    "    reader = csv.reader(f,delimiter='\\t')\n",
    "    \n",
    "    genes = []\n",
    "    for line in reader:\n",
    "        if len(line) > 2:\n",
    "            genes.append(line[2])\n",
    "    \n",
    "    return(list(set(genes)))"
   ]
  },
  {
   "cell_type": "code",
   "execution_count": 2,
   "metadata": {
    "collapsed": true
   },
   "outputs": [],
   "source": [
    "mouse_genes = geneList('data/miscellaneous/annotMouse.txt')\n",
    "human_genes = geneList('data/miscellaneous/annotHuman.txt')"
   ]
  },
  {
   "cell_type": "code",
   "execution_count": null,
   "metadata": {
    "collapsed": false
   },
   "outputs": [],
   "source": [
    "execfile('analysis.py')\n",
    "\n",
    "all_genes = mouse_genes + human_genes\n",
    "all_genes = [gene.lower() for gene in all_genes]\n",
    "\n",
    "representation_file = 'results/all10bin/all10binBinary_model_repAllGenes.txt'\n",
    "metadata_file = 'results/all10/all10_metadataAllGenes.tsv'\n",
    "index_set = [2,3]\n",
    "output_file = 'all10bin_MouseHumanAllGenes_Annot'\n",
    "filterGenes(representation_file,metadata_file,index_set,all_genes,output_file)"
   ]
  },
  {
   "cell_type": "markdown",
   "metadata": {},
   "source": [
    "-------\n",
    "\n",
    "### Barnes-Hut tSNE\n",
    "\n",
    "The Sci-Kit Learn implementation of tSNE required a considerable amount of memory to run and we were running into difficulties running the tSNE algorithm even with a small fraction of our original dataset. Fortunately, we stumbled upon a different implementation of tSNE called the Barnes-Hut tSNE which leads to a more interactive (i.e. more log information) and, more importantly, a faster and more efficient projection calculation. Details of the implementation that we used can be found on this GitHub page: https://github.com/dominiek/python-bhtsne.   \n",
    "\n",
    "\n",
    "### R Shiny App for Clustering Analysis\n",
    "\n",
    "Due to the limitations of Tensorflow Projector, we decided to craft a similar version of the projection tool using R Shiny. The most important features we wanted to include in this app were the ability to visualize our entire dataset. We also wanted to ensure that we could manually select different dimensions of the projected space to visualize and isolate points/clusters in these plots of interest. The R Shiny implementation has both bounding box and \"lasso\" selection tools for 2D plots in Plotly, so we take advantage of these features in our own implementation. In addition, we include a button in the app that can write to file the set of selected points chosen using the bounding box or lasso tool.  \n",
    "\n",
    "We focused initially on the Mouse and Human clusters that we identified using the Tensorflow Projector with limited data. In order to more clearly isolate the Mouse cluster in the projection, we plot the 1st and 2nd dimensions of the tSNE projected data. For the Human cluster, we plot the 2nd and 3rd dimensions and filter out all values for which  the first dimension is less than 0. (We filter out points with these values for the Human cluster because our visualization of the data in 3D space indicates that the specific cluster we are interested in lies \"overlaps\" with another cluster when only looking through a 2D lense via the 2nd and 3rd dimensions.)  "
   ]
  },
  {
   "cell_type": "code",
   "execution_count": 6,
   "metadata": {
    "collapsed": false
   },
   "outputs": [
    {
     "data": {
      "text/html": [
       "<tr><td><img src='results/clustering/RShiny/MouseHuman_MouseCluster.png'></td><td><img src='results/clustering/RShiny/MouseHuman_HumanCluster.png'></td></tr>"
      ],
      "text/plain": [
       "<IPython.core.display.HTML object>"
      ]
     },
     "metadata": {},
     "output_type": "display_data"
    }
   ],
   "source": [
    "from IPython.display import HTML, display\n",
    "display(HTML(\"<tr><td><img src='results/clustering/RShiny/MouseHuman_MouseCluster.png'></td><td><img src='results/clustering/RShiny/MouseHuman_HumanCluster.png'></td></tr>\"))  "
   ]
  },
  {
   "cell_type": "markdown",
   "metadata": {},
   "source": [
    "After performing Barnes-Hut tSNE on the representation vectors for all Mouse and Human promoters and isolating the points of interest with our R Shiny app, we write the list of genes from the selected list to a file for easy copy-and-pasting into the enrichment analyses tools found online.  "
   ]
  },
  {
   "cell_type": "code",
   "execution_count": 1,
   "metadata": {
    "collapsed": false
   },
   "outputs": [
    {
     "name": "stderr",
     "output_type": "stream",
     "text": [
      "Using TensorFlow backend.\n"
     ]
    }
   ],
   "source": [
    "execfile('analysis.py')\n",
    "\n",
    "metadata_file = 'selectedPoints.txt'\n",
    "index_set = [3]\n",
    "output_file = 'selectedPointsHuman.txt'\n",
    "filterSpeciesMetadataOnly(metadata_file,index_set,output_file)\n",
    "\n",
    "metadata_file = 'selectedPoints.txt'\n",
    "index_set = [2]\n",
    "output_file = 'selectedPointsMouse.txt'\n",
    "filterSpeciesMetadataOnly(metadata_file,index_set,output_file)"
   ]
  },
  {
   "cell_type": "markdown",
   "metadata": {},
   "source": [
    "### PantherDB for GO Term Enrichment (Biological Process and Molecular Function\n",
    "\n",
    "For this tool, all we need to do is copy and paste the list of gene names that we aggregated from the step above into Enrichment Analysis box on the front page of the Gene Ontology website.  \n",
    "\n",
    "### DAVID: Functional Annotation Tool\n",
    "\n",
    "Unfortunately, DAVID only supports 3000 genes in an inputted gene list due to server constraints. Therefore, in order to use this tool, we had to limit our set of genes to analyze. We use the output from the Gene Ontology website to identify the genes from our inputted lists that successfully mapped to annotations. We use this list of annotated genes to randomly select 3000 genes to be inputted into the DAVID tool.  \n",
    "\n",
    "**Outputs for GO:** results/clustering/RShiny/GOterm    \n",
    "**Outputs for DAVID:** results/clustering/RShiny/DAVIDfunc  \n"
   ]
  },
  {
   "cell_type": "code",
   "execution_count": 2,
   "metadata": {
    "collapsed": true
   },
   "outputs": [],
   "source": [
    "import csv\n",
    "\n",
    "# get Human genes w/ annotations\n",
    "f = open('results/clustering/RShiny/DAVIDfunc/pantherGeneListHuman.txt')\n",
    "reader = csv.reader(f,delimiter='\\t')\n",
    "humanGenes = [line[1] for line in reader]\n",
    "f.close()\n",
    "\n",
    "# write new filtered list to file\n",
    "f = open('results/clustering/RShiny/DAVIDfunc/pantherGeneListHuman_filtered.txt','w')\n",
    "for gene in humanGenes[0:2900]:\n",
    "    f.write(gene + '\\n')\n",
    "f.close()"
   ]
  },
  {
   "cell_type": "code",
   "execution_count": 3,
   "metadata": {
    "collapsed": true
   },
   "outputs": [],
   "source": [
    "import csv\n",
    "\n",
    "# get Mouse genes w/ annotations\n",
    "f = open('results/clustering/RShiny/DAVIDfunc/pantherGeneListMouse.txt')\n",
    "reader = csv.reader(f,delimiter='\\t')\n",
    "humanGenes = [line[1] for line in reader]\n",
    "f.close()\n",
    "\n",
    "# write new filtered list to file\n",
    "f = open('results/clustering/RShiny/DAVIDfunc/pantherGeneListMouse_filtered.txt','w')\n",
    "for gene in humanGenes[0:2900]:\n",
    "    f.write(gene + '\\n')\n",
    "f.close()"
   ]
  },
  {
   "cell_type": "code",
   "execution_count": null,
   "metadata": {
    "collapsed": true
   },
   "outputs": [],
   "source": []
  }
 ],
 "metadata": {
  "kernelspec": {
   "display_name": "Python 2",
   "language": "python",
   "name": "python2"
  },
  "language_info": {
   "codemirror_mode": {
    "name": "ipython",
    "version": 2
   },
   "file_extension": ".py",
   "mimetype": "text/x-python",
   "name": "python",
   "nbconvert_exporter": "python",
   "pygments_lexer": "ipython2",
   "version": "2.7.11"
  }
 },
 "nbformat": 4,
 "nbformat_minor": 0
}
