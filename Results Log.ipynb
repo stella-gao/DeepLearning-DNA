{
 "cells": [
  {
   "cell_type": "markdown",
   "metadata": {},
   "source": [
    "# Results Log (Species Prediction Models)"
   ]
  },
  {
   "cell_type": "markdown",
   "metadata": {},
   "source": [
    "## Regular Convolutional Neural Network\n",
    "\n",
    "**Architecture:** (no regularization, filter width: 2, 80 filters)  \n",
    "**[Conv/Pool/Drop] -> [Conv/Pool/Drop] -> [Conv/Pool/Drop]**  \n",
    "Epochs: 60  \n",
    "Training Accuracy: ~0.78 (training loss appears to still be declining)  \n",
    "Validation Accuracy: ~0.54 (training loss/accuracy remained approximately the same since Epoch 40)  \n"
   ]
  },
  {
   "cell_type": "markdown",
   "metadata": {},
   "source": [
    "## Convolutional Neural Network with Dilated Convolution Branch\n",
    "\n",
    "**Architecture:**  \n",
    "Regular Convolution Branch: **[Conv/Pool/Drop] -> [Conv/Pool/Drop] -> [Conv/Pool/Drop]**  \n",
    "Dilated Convolution Branch: **[Conv-Dil: (1,2)/Pool/Drop] -> [Conv-Dil: (1,4)/Pool/Drop] -> [Conv-Dil: (1,8)/Pool/Drop]**  \n",
    "Epochs: 25  \n",
    "Training Accuracy: ~0.80  \n",
    "Validation Accuracy: ~0.53  \n",
    "\n",
    "**Architecture:**  \n",
    "Regular Convolution Branch: **[Conv/Pool/Drop] -> [Conv/Pool/Drop] -> [Conv/Pool/Drop]**  \n",
    "Dilated Convolution Branch: **[Conv-Dil: (1,8)/Pool/Drop] -> [Conv-Dil: (1,4)/Pool/Drop] -> [Conv-Dil: (1,2)/Pool/Drop]**  \n",
    "Epochs: 40  \n",
    "Training Accuracy: ~0.95 (@ 40 epochs), ~0.67 (@9 epochs)  \n",
    "Validation Accuracy: ~0.50 (@40 epochs), ~0.58 (@9 epochs)  \n",
    "\n",
    "\n",
    "**Architecture:** (no regularization!)  \n",
    "Regular Convolution Branch: **[Conv/Pool/Drop] -> [Conv/Pool/Drop]**  \n",
    "Dilated Convolution Branch: **[Conv-Dil: (1,4)/Pool/Drop] -> [Conv-Dil: (1,4)/Pool/Drop]**  \n",
    "Stacked Output: **Stack/Reshape -> [Conv/Pool/Drop]**  \n",
    "Epochs: 40  \n",
    "Training Accuracy: ~0.94 (~0.73 @ 10 epochs)    \n",
    "Validation Accuracy: ~0.49 (~0.54 @ 10 epochs)     "
   ]
  },
  {
   "cell_type": "markdown",
   "metadata": {},
   "source": [
    "## LSTM Models\n",
    "\n",
    "**Arhictecture: [LSTM(128)/Drop]**  \n",
    "Epochs: 10  \n",
    "Training Accuracy: ///  (TIMEOUT)  \n",
    "Validation Accuracy: /// (TIMEOUT)  \n",
    "\n",
    "\n",
    "**Arhictecture: [Conv/Drop] -> [LSTM(128)/Drop]**  \n",
    "Epochs: 20  \n",
    "Training Accuracy: ///  (ConvDrop in .o file...)  \n",
    "Validation Accuracy: ///  "
   ]
  },
  {
   "cell_type": "code",
   "execution_count": null,
   "metadata": {
    "collapsed": true
   },
   "outputs": [],
   "source": []
  }
 ],
 "metadata": {
  "kernelspec": {
   "display_name": "Python 2",
   "language": "python",
   "name": "python2"
  },
  "language_info": {
   "codemirror_mode": {
    "name": "ipython",
    "version": 2
   },
   "file_extension": ".py",
   "mimetype": "text/x-python",
   "name": "python",
   "nbconvert_exporter": "python",
   "pygments_lexer": "ipython2",
   "version": "2.7.11"
  }
 },
 "nbformat": 4,
 "nbformat_minor": 0
}
