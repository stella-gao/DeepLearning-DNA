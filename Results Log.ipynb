{
 "cells": [
  {
   "cell_type": "markdown",
   "metadata": {},
   "source": [
    "# Results Log (Species Prediction Models)"
   ]
  },
  {
   "cell_type": "markdown",
   "metadata": {},
   "source": [
    "## Regular Convolutional Neural Network\n",
    "\n",
    "**Architecture:** (no regularization, filter width: 2, 80 filters)  \n",
    "**[Conv/Pool/Drop] -> [Conv/Pool/Drop] -> [Conv/Pool/Drop]**  \n",
    "Epochs: 60  \n",
    "Training Accuracy: ~0.78 (training loss appears to still be declining)  \n",
    "Validation Accuracy: ~0.54 (training loss/accuracy remained approximately the same since Epoch 40)  \n"
   ]
  },
  {
   "cell_type": "markdown",
   "metadata": {},
   "source": [
    "## Convolutional Neural Network with Dilated Convolution Branch\n",
    "\n",
    "**Architecture:**  \n",
    "Regular Convolution Branch: **[Conv/Pool/Drop] -> [Conv/Pool/Drop] -> [Conv/Pool/Drop]**  \n",
    "Dilated Convolution Branch: **[Conv-Dil: (1,2)/Pool/Drop] -> [Conv-Dil: (1,4)/Pool/Drop] -> [Conv-Dil: (1,8)/Pool/Drop]**  \n",
    "Epochs: 25  \n",
    "Training Accuracy: ~0.80  \n",
    "Validation Accuracy: ~0.53  \n",
    "\n",
    "**Architecture:**  \n",
    "Regular Convolution Branch: **[Conv/Pool/Drop] -> [Conv/Pool/Drop] -> [Conv/Pool/Drop]**  \n",
    "Dilated Convolution Branch: **[Conv-Dil: (1,8)/Pool/Drop] -> [Conv-Dil: (1,4)/Pool/Drop] -> [Conv-Dil: (1,2)/Pool/Drop]**  \n",
    "Epochs: 40  \n",
    "Training Accuracy: ~0.95 (@ 40 epochs), ~0.67 (@9 epochs)  \n",
    "Validation Accuracy: ~0.50 (@40 epochs), ~0.58 (@9 epochs)  \n",
    "\n",
    "\n",
    "**Architecture:** (no regularization!)  \n",
    "Regular Convolution Branch: **[Conv/Pool/Drop] -> [Conv/Pool/Drop]**  \n",
    "Dilated Convolution Branch: **[Conv-Dil: (1,4)/Pool/Drop] -> [Conv-Dil: (1,4)/Pool/Drop]**  \n",
    "Stacked Output: **Stack/Reshape -> [Conv/Pool/Drop]**  \n",
    "Epochs: 40  \n",
    "Training Accuracy: ~0.94 (~0.73 @ 10 epochs)    \n",
    "Validation Accuracy: ~0.49 (~0.54 @ 10 epochs)     "
   ]
  },
  {
   "cell_type": "markdown",
   "metadata": {},
   "source": [
    "## LSTM Models\n",
    "3 Current Models:  \n",
    "1) LSTM only - involves breaking each promoter sequence into smaller subsequences (looking for short patterns, i.e. TF binding motifs)  \n",
    "2) Conv + LSTM (sequential) - applies convolutions/pooling to \"summarize\" promoter sequence first and then applies LSTM to get longer range patterns across the entire sequence \"summary\"  \n",
    "3) Conv + LSTM (parallel) - same as LSTM only model but with addition of separate branch consisting of multiple convolutional layers (representations of each branch are obtained via a dense layer for each branch and then concatenated)  \n",
    "\n",
    "----\n",
    "\n",
    "Architecture: (see below)   \n",
    "Epochs: 20  \n",
    "Training Accuracy: ~0.4-0.6 (highly variable...)  \n",
    "Validation Accuracy: ~0.44 (validation loss doesn't appear to be declining)  \n",
    "\n",
    "Training for more epochs...  \n",
    "Epochs (total): 45  \n",
    "Training Accuracy: ~0.75 (still highly variable...)  \n",
    "Validation Accuracy: ~0.56  \n",
    "\n",
    "----\n",
    "Architecture: (see below, changed pooling dimensions to (1,5) and stride to (1,5))  \n",
    "Epochs: 20  \n",
    "Training Accuracy: ~0.5 (highly variable...)  \n",
    "Validation Accuracy: ~0.4 (validation loss doesn't appear to be declining)  "
   ]
  },
  {
   "cell_type": "code",
   "execution_count": null,
   "metadata": {
    "collapsed": true
   },
   "outputs": [],
   "source": [
    "# LSTM block\n",
    "conv1 = Conv2D(8,[4,5],activation='linear',\n",
    "                name='convTrans_1',padding='valid')(dna)\n",
    "leak1 = LeakyReLU(alpha=.001)(conv1)\n",
    "pool1 = AveragePooling2D((1,2),strides=(1,2),name='AvgPoolTrans_1',padding='same')(leak1) \n",
    "conv2 = Conv2D(1,[1,1],activation='linear',name='convTrans1x1',padding='same')(pool1)\n",
    "reshapedSeq = tf.reshape(tf.squeeze(conv2,[1,3]),[tf.shape(conv2)[0],31,8])\n",
    "lstm1 = RNN(reshapedSeq,n_steps,n_hidden,100)\n",
    "\n",
    "FC = Dense(50,activation='relu',name='representation')(lstm1)\n",
    "preds = Dense(num_species,activation='softmax')(FC)"
   ]
  },
  {
   "cell_type": "markdown",
   "metadata": {},
   "source": [
    "### LSTM (only)\n",
    "Architecture: (see below)  \n",
    "Epochs: ~20 (stopped)   \n",
    "Patch Length: 10  \n",
    "Training Accuracy: ~0.12-0.3 (highly variable...)    \n",
    "Validation Accuracy: ~0.13    \n",
    "\n",
    "Architecture: (see below, change 50s to 25)  \n",
    "Epochs: 20  \n",
    "Patch Length: 20  \n",
    "Training Accuracy: ~0.2 (highly variable...)    \n",
    "Validation Accuracy: ~0.14  "
   ]
  },
  {
   "cell_type": "code",
   "execution_count": null,
   "metadata": {
    "collapsed": true
   },
   "outputs": [],
   "source": [
    "reshapedDNA = tf.concat(tf.split(tf.squeeze(dna,[3]),50,2),0)\n",
    "reshapedDNA = tf.reshape(reshapedDNA,[tf.shape(reshapedDNA)[0],tf.shape(reshapedDNA)[2],4])\n",
    "lstm1 = RNN(reshapedDNA,n_steps,n_hidden,100)\n",
    "reshapedLSTM = tf.reshape(lstm1,[tf.shape(dna)[0],50,100])\n",
    "\n",
    "flat = Flatten()(reshapedLSTM)\n",
    "FC = Dense(50,activation='relu',name='representation')(flat)\n",
    "preds = Dense(num_species,activation='softmax')(FC)"
   ]
  },
  {
   "cell_type": "markdown",
   "metadata": {},
   "source": [
    "### LSTM (2 Layers)\n",
    "\n",
    "Architecture: (see below)  \n",
    "Epochs: 20  \n",
    "Training Accuracy: ///  \n",
    "Validation Accuracy: ///  "
   ]
  },
  {
   "cell_type": "code",
   "execution_count": null,
   "metadata": {
    "collapsed": true
   },
   "outputs": [],
   "source": [
    "reshapedDNA = tf.concat(tf.split(tf.squeeze(dna,[3]),int(promoter_length/n_steps),2),0)\n",
    "reshapedDNA = tf.reshape(reshapedDNA,[tf.shape(reshapedDNA)[0],tf.shape(reshapedDNA)[2],4])\n",
    "with tf.variable_scope('LSTM1'):\n",
    "    lstm1 = RNN(reshapedDNA,n_steps,n_hidden,32)\n",
    "\n",
    "n_steps2 = int(promoter_length/n_steps)\n",
    "reshapedLSTM1 = tf.reshape(lstm1,[tf.shape(dna)[0],n_steps2,32])\n",
    "with tf.variable_scope('LSTM2'):\n",
    "    lstm2 = RNN(reshapedLSTM1,n_steps2,n_hidden,64)\n",
    "\n",
    "FC = Dense(50,activation='relu',name='representation')(lstm2)\n",
    "preds = Dense(num_species,activation='softmax')(FC)"
   ]
  },
  {
   "cell_type": "markdown",
   "metadata": {},
   "source": [
    "### LSTM + Conv (Parallel Branches)\n",
    "Architecture: (see below)  \n",
    "Epochs: ~20 (stopped)  \n",
    "Training Accuracy: ~0.6-0.8 (highly variable...)  \n",
    "Validation Accuracy: ~0.55  \n"
   ]
  },
  {
   "cell_type": "code",
   "execution_count": null,
   "metadata": {
    "collapsed": true
   },
   "outputs": [],
   "source": []
  }
 ],
 "metadata": {
  "kernelspec": {
   "display_name": "Python 2",
   "language": "python",
   "name": "python2"
  },
  "language_info": {
   "codemirror_mode": {
    "name": "ipython",
    "version": 2
   },
   "file_extension": ".py",
   "mimetype": "text/x-python",
   "name": "python",
   "nbconvert_exporter": "python",
   "pygments_lexer": "ipython2",
   "version": "2.7.11"
  }
 },
 "nbformat": 4,
 "nbformat_minor": 0
}
