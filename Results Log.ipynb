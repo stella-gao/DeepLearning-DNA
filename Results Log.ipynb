{
 "cells": [
  {
   "cell_type": "markdown",
   "metadata": {},
   "source": [
    "# Results Log"
   ]
  },
  {
   "cell_type": "markdown",
   "metadata": {},
   "source": [
    "## Effective Models  \n",
    "\n",
    "### Species Prediction\n"
   ]
  },
  {
   "cell_type": "markdown",
   "metadata": {},
   "source": [
    "## Species Prediction\n",
    "\n",
    "**New Sampling Method:**  \n",
    "1) create windows for each gene across all species  \n",
    "2) select ~80% of genes to be in training data, remaining ~20% to be in training data  \n",
    "3) determine species with the fewest genes and the corresponding number of windows associated with that species  \n",
    "4) randomly sample windows for each gene such that the number of total windows represented (# of genes x # of windows) is the same for each species  "
   ]
  },
  {
   "cell_type": "markdown",
   "metadata": {},
   "source": [
    "### Keras + Tensorflow Model"
   ]
  },
  {
   "cell_type": "markdown",
   "metadata": {},
   "source": [
    "**S. cerevisiae + C. elegans + Mouse + Humans** (w/o random sequences)"
   ]
  },
  {
   "cell_type": "code",
   "execution_count": 3,
   "metadata": {
    "collapsed": false
   },
   "outputs": [
    {
     "data": {
      "text/plain": [
       "array([[1486, 1030,   32,   35],\n",
       "       [ 789, 1620,   13,   25],\n",
       "       [  17,   13, 2274,  159],\n",
       "       [  31,   38,  323, 2115]])"
      ]
     },
     "execution_count": 3,
     "metadata": {},
     "output_type": "execute_result"
    }
   ],
   "source": [
    "import numpy as np\n",
    "np.array([[1486, 1030,   32,   35],\n",
    "       [ 789, 1620,   13,   25],\n",
    "       [  17,   13, 2274,  159],\n",
    "       [  31,   38,  323, 2115]])"
   ]
  },
  {
   "cell_type": "markdown",
   "metadata": {},
   "source": [
    "**S. cereivisiae + S. boulardii** (w/o random sequences)  \n",
    "Epochs: 15  \n",
    "End validation accuracy: ~0.65  \n",
    "\n",
    "**S. cerevisiae + C. elegans** (w/o random sequences)  \n",
    "Epochs: 15  \n",
    "End validation accuracy: ~0.93\n",
    "checking again...see cEleg.o24099987)  --> see matching FIDDLE results at fiddle.o24099925  (sCer_cEleg_results/exp1_norand_again)  \n",
    "\n",
    "**S. cerevisiae + S. pombe** (w/o random sequences)  \n",
    "Epochs: 15  \n",
    "End validation accuracy: ~0.75  \n",
    "\n",
    "**S. cerevisiae + C. elegans + Mouse + Human** (\"window\" limit, w/o random sequences)  \n",
    "Epochs: 15  \n",
    "End validation accruacy: ///"
   ]
  },
  {
   "cell_type": "markdown",
   "metadata": {},
   "source": [
    "### Keras + Tensorflow Model (w/ Dilated Convolution Branch)  \n",
    "\n",
    "**S. cerevisiae + C. elegans** (w/o random sequences)  \n",
    "2 regular convolutional layers + 1 dilated convolutional layer (dilation rate: 1,2)  \n",
    "Epochs: 15  \n",
    "End Validation Accuracy: ~0.88  \n",
    "\n",
    "**S. cerevisiae + C. elegans** (w/o random sequences)  \n",
    "1 regular convolutional layer + 1 dilated convolutional layer (dilation rate: 1,2)  \n",
    "Epochs: 15  \n",
    "End Validation Accuracy: ~0.88  \n",
    "\n",
    "**S. cerevisiae + C. elegans** (w/o random sequences)  \n",
    "1 regular convolutional layer + 1 dilated convolutional layer (dilation rate: 1,3)  \n",
    "Epochs: 15  \n",
    "End Validation Accuracy: ~0.85 (signs of overfitting after several epochs)  \n",
    "\n",
    "**S. cerevisiae + C. elegans** (w/o random sequences)  \n",
    "3 regular convolutional layers + 3 dilated convolution layers (dilation rate: (1,2), (1,4), (1,8))  \n",
    "Epochs: 15  \n",
    "End Validation Accuracy: ~0.91  "
   ]
  },
  {
   "cell_type": "markdown",
   "metadata": {},
   "source": [
    "### Keras Model  \n",
    "\n",
    "**S. cerevisiae + C. elegans**  \n",
    "Epochs: 15  \n",
    "Validation Accuracy: ~0.93  "
   ]
  },
  {
   "cell_type": "markdown",
   "metadata": {
    "collapsed": true
   },
   "source": [
    "### FIDDLE Model (Original)  \n",
    "**Encoder**: 2 convolutional layers (regular convolution) - FIDDLE default  \n",
    "**Decoder**: 1 convolutional layer - FIDDLE default w/ different final FC layer and output activation functions for classification  \n"
   ]
  },
  {
   "cell_type": "markdown",
   "metadata": {},
   "source": [
    "**S. cerevisiae + C. elegans + Random**  \n",
    "Epochs: 5  \n",
    "End Validation Accuracy: ~0.6 (keep in mind...baseline = 0.33)  \n",
    "Notes: cross entropy appeared to still be decreasing at Epoch 5 -> should try more epochs  \n",
    "\n",
    "**S. cerevisiae + C. elegans**  \n",
    "Epochs: 5  \n",
    "End Validation Accuracy: ~0.85 (baseline = 0.5)  \n",
    "\n",
    "**S. cerevisiae + S. boulardii**  \n",
    "Epochs: 5  \n",
    "End Validation Accuracy: ~0.62  "
   ]
  },
  {
   "cell_type": "markdown",
   "metadata": {},
   "source": [
    "### FIDDLE Model (Dilated Convolution)  "
   ]
  },
  {
   "cell_type": "markdown",
   "metadata": {},
   "source": [
    "**Encoder:** 2 convolutional layers (dilated convolution at 1st convolutional layer; otherwise FIDDLE default)  \n",
    "**Decoder:** 1 convolutional layer - FIDDLE default w/ different final FC layer and output activation functions for classification  \n",
    "\n",
    "**S. cerevisiae + S. boulardii**  \n",
    "Epochs: 5  \n",
    "End Validation Accuracy: ~0.6\n",
    "\n",
    "**S. cerevisiae + S. pombe** (w/o random sequences)  \n",
    "Epochs: 5  \n",
    "End Validation Accuracy: ~0.8 (sCer_sPom/exp1_norand)  "
   ]
  },
  {
   "cell_type": "markdown",
   "metadata": {},
   "source": []
  },
  {
   "cell_type": "markdown",
   "metadata": {},
   "source": [
    "### FIDDLE Model (2-Branch Regular + Dilated Convolution)"
   ]
  },
  {
   "cell_type": "markdown",
   "metadata": {},
   "source": [
    "**Encoder:** 1st branch w/ 2 regular convolutional layers, 2nd branch w/ 1 dilated convolution layer  \n",
    "Note: The 1st and 2nd branch outputs are stacked (similar to what's done in the 1st step of assembling the decoder) and then this stacked output is flattened and fed through a fully-connected layer such that its output resembles the output of using the single-branched approach, i.e. 1 x 500 representatonal layer for each input item.  \n",
    "\n",
    "**Decoder:** 1 convolutional layer - FIDDLE default w/ different final FC layer and output activation functions for classification  "
   ]
  },
  {
   "cell_type": "markdown",
   "metadata": {},
   "source": [
    "## GO Prediction"
   ]
  },
  {
   "cell_type": "markdown",
   "metadata": {},
   "source": [
    "### Tensorflow + Keras Model  \n",
    "\n",
    "**S. cerevisiae: response to stress vs. cell cycle** (w/ randomly generated sequences in training AND validation!)    \n",
    "3 Convolutional Layers  \n",
    "Epochs: 15  \n",
    "End Validation (Binary) Accuracy: ~0.8 (baseline: ~0.62, from setting all values to zero)  \n",
    "End Exact Match Accuracy: ~0.62 (baseline: ~0.33, by guessing \"cell cycle\")   \n",
    "\n",
    "**S. cerevisiae: response to stress vs. cell cycle** (w/ randomly generated sequences in training ONLY)    \n",
    "3 Convolutional Layers  \n",
    "Epochs: 15  \n",
    "End Validation (Binary) Accuracy: ~0.65 (baseline: ~0.63, from setting all values to zero)  \n",
    "End Exact Match Accuracy: ~0.35 (baseline: ~0.55, by guessing \"cell cycle\")   \n",
    "\n",
    "----\n",
    "\n",
    "**S. cerevisiae: response to stress vs. cell cycle** (w/o randomly generated sequences)  \n",
    "3 Convolutional Layers  \n",
    "Epochs: 15  \n",
    "End Validation (Binary) Accuracy: ~0.55 (baseline: N/A given that we only have 2 GO terms to predict)  \n",
    "End Exact Match Accuracy: ~0.40 (baseline: ~0.58, by guessing \"cell cycle\")  \n",
    "\n",
    "**S. cerevisiae: response to stress vs. cell cycle** (w/o randomly generated sequences)  \n",
    "6 Convolutional Layers  \n",
    "Epochs: 15  \n",
    "End Validation (Binary) Accuracy: ~0.55 (baseline: N/A given that we only have 2 GO terms to predict)  \n",
    "End Exact Match Accuracy: ~0.40 (baseline: ~0.58, by guessing \"cell cycle\")  \n",
    "\n",
    "-----\n",
    "\n",
    "**Mouse + Human: response to oxidative stress, response to hypoxia, response to endoplasmic reticulum stress, cellular response to starvation**  \n",
    "2 Convolutional Layers  \n",
    "Epochs: 40 (small datasize)  \n",
    "End Validation (Binary) Accuracy: ~0.66  \n",
    "End Exact Match Accuracy: ~0.18  \n",
    "\n"
   ]
  },
  {
   "cell_type": "code",
   "execution_count": 3,
   "metadata": {
    "collapsed": false
   },
   "outputs": [
    {
     "data": {
      "text/plain": [
       "array([[ 98, 196, 294,  49],\n",
       "       [147, 637, 294, 196],\n",
       "       [ 49, 637, 196, 147],\n",
       "       [  0, 392,  49, 147]])"
      ]
     },
     "execution_count": 3,
     "metadata": {},
     "output_type": "execute_result"
    }
   ],
   "source": [
    "# indices correspond to order of GO terms listed above  \n",
    "np.array([[ 98, 196, 294,  49],\n",
    "       [147, 637, 294, 196],\n",
    "       [ 49, 637, 196, 147],\n",
    "       [  0, 392,  49, 147]])"
   ]
  },
  {
   "cell_type": "markdown",
   "metadata": {},
   "source": [
    "**Mouse + Human: response to oxidative stress, response to hypoxia, response to endoplasmic reticulum stress, cellular response to starvation**  \n",
    "3 Convolutional Layers  \n",
    "Epochs: 30 (small datasize)  \n",
    "End Validation (Binary) Accuracy: TBD  \n",
    "End Exact Match Accuracy: TBD  \n",
    "\n",
    "\n"
   ]
  },
  {
   "cell_type": "markdown",
   "metadata": {
    "collapsed": true
   },
   "source": [
    "**Human: response to oxidative stress, response to hypoxia, response to endoplasmic reticulum stress, cellular response to starvation**  \n",
    "2 Convolutional Layers  \n",
    "Epochs: 50 (small datasize)  \n",
    "End Validation (Binary) Accuracy: ~0.72  \n",
    "End Exact Match Accuracy: ~0.37  "
   ]
  },
  {
   "cell_type": "markdown",
   "metadata": {
    "collapsed": true
   },
   "source": [
    "**Human: chromosome organization (Type II) vs. skeletal system development (Type I)**  \n",
    "2 Convolutional Layers  \n",
    "Epochs: 30  \n",
    "End Validation (Binary) Accuracy:  ~0.54  \n",
    "End Exact Match Accuracy: ~0.50  \n",
    "\n",
    "**Human: skeletal system development (Type I) vs. multicellular organism development (Type II)**  \n",
    "2 Convolutional Layers (Average Pooling)  \n",
    "Epochs: 30  \n",
    "End Validation (Binary) Accuracy: ~0.52  \n",
    "End Exact Match Accuracy: ~0.57  \n",
    "NOTE: balanced training/validation dataset (many more \"skeletal\" GO terms actually available)  \n",
    "\n",
    "**Human: skeletal system development (Type I) vs. multicellular organism development (Type II)**  \n",
    "2 Convolutional Layers (Max Pooling), Filter Width: 10  \n",
    "Epochs: 30  \n",
    "End Validation (Binary) Accuracy: ~0.48   \n",
    "End Exact Match Accuracy: ~0.46  \n",
    "NOTE: balanced training/validation dataset (many more \"skeletal\" GO terms actually available)  \n",
    "\n",
    "**S. cerevisiae: translation (Type II/TCT) vs. cell cycle"
   ]
  },
  {
   "cell_type": "markdown",
   "metadata": {
    "collapsed": true
   },
   "source": [
    "----\n",
    "\n",
    "### Tensorflow + Keras Model (Multi-Label Binary Classification)  \n",
    "\n",
    "**Human + Mouse: response to oxidative stress, response to hypoxia, response to endoplasmic reticulum stress, cellular response to starvation**  \n",
    "2 Convolutional Layers  \n",
    "Epochs: 30  \n",
    "End Validation Accuracy:  ~0.67  \n",
    "End Exact Match Accuracy: ~0.28 (but oxidative stress only, i.e. [1,0,0,0], is ~28% of validation dataset...)  \n",
    "\n",
    "**S. cerevisiae: cell cycle, stress, chromosome organization**  \n",
    "2 Convolutional Layers  \n",
    "Epochs: 15  \n",
    "End Validation Accuracy: ~0.56  \n",
    "End Exact Match Accuracy: ~0.20  \n",
    "\n",
    "**S. cerevisiae: cell cycle vs. stress**  \n",
    "2 Convolutional Layers  \n",
    "Epochs: 15  \n",
    "End Validation Accuracy: ~0.62  \n",
    "End Exact Match Accuracy: ~0.47  \n",
    "\n",
    "**S. cerevisiae: cell cycle vs. stress vs. chromosome organization (test only on cell cycle)**  \n",
    "2 Convolutional Layers  \n",
    "Epochs: 20  \n",
    "End Validation/Exact Match Accuracy: ~0.56  \n",
    "\n",
    "**Human: skeletal system development (Type I) vs. multicellular organism development (Type II)**  \n",
    "2 Convolutional Layers (Average Pooling), Filter Width: 10  \n",
    "Epochs: 20  \n",
    "End Validation (Binary) Accuracy: // \n",
    "End Exact Match Accuracy: //   \n",
    "NOTE: balanced training/validation dataset (many more \"skeletal\" GO terms actually available)  \n",
    "\n"
   ]
  },
  {
   "cell_type": "code",
   "execution_count": null,
   "metadata": {
    "collapsed": true
   },
   "outputs": [],
   "source": []
  }
 ],
 "metadata": {
  "kernelspec": {
   "display_name": "Python 2",
   "language": "python",
   "name": "python2"
  },
  "language_info": {
   "codemirror_mode": {
    "name": "ipython",
    "version": 2
   },
   "file_extension": ".py",
   "mimetype": "text/x-python",
   "name": "python",
   "nbconvert_exporter": "python",
   "pygments_lexer": "ipython2",
   "version": "2.7.11"
  }
 },
 "nbformat": 4,
 "nbformat_minor": 0
}
