{
 "cells": [
  {
   "cell_type": "markdown",
   "metadata": {},
   "source": [
    "# Results Log (Species Prediction Models)"
   ]
  },
  {
   "cell_type": "markdown",
   "metadata": {},
   "source": [
    "## Regular Convolutional Neural Network\n",
    "\n",
    "**Architecture:** (no regularization, filter width: 2, 80 filters)  \n",
    "**[Conv/Pool/Drop] -> [Conv/Pool/Drop] -> [Conv/Pool/Drop]**  \n",
    "Epochs: 60  \n",
    "Training Accuracy: ~0.78 (training loss appears to still be declining)  \n",
    "Validation Accuracy: ~0.54 (training loss/accuracy remained approximately the same since Epoch 40)  \n"
   ]
  },
  {
   "cell_type": "markdown",
   "metadata": {},
   "source": [
    "## Convolutional Neural Network with Dilated Convolution Branch\n",
    "\n",
    "**Architecture:**  \n",
    "Regular Convolution Branch: **[Conv/Pool/Drop] -> [Conv/Pool/Drop] -> [Conv/Pool/Drop]**  \n",
    "Dilated Convolution Branch: **[Conv-Dil: (1,2)/Pool/Drop] -> [Conv-Dil: (1,4)/Pool/Drop] -> [Conv-Dil: (1,8)/Pool/Drop]**  \n",
    "Epochs: 25  \n",
    "Training Accuracy: ~0.80  \n",
    "Validation Accuracy: ~0.53  \n",
    "\n",
    "**Architecture:**  \n",
    "Regular Convolution Branch: **[Conv/Pool/Drop] -> [Conv/Pool/Drop] -> [Conv/Pool/Drop]**  \n",
    "Dilated Convolution Branch: **[Conv-Dil: (1,8)/Pool/Drop] -> [Conv-Dil: (1,4)/Pool/Drop] -> [Conv-Dil: (1,2)/Pool/Drop]**  \n",
    "Epochs: 40  \n",
    "Training Accuracy: ~0.95 (@ 40 epochs), ~0.67 (@9 epochs)  \n",
    "Validation Accuracy: ~0.50 (@40 epochs), ~0.58 (@9 epochs)  \n",
    "\n",
    "\n",
    "**Architecture:** (no regularization!)  \n",
    "Regular Convolution Branch: **[Conv/Pool/Drop] -> [Conv/Pool/Drop]**  \n",
    "Dilated Convolution Branch: **[Conv-Dil: (1,4)/Pool/Drop] -> [Conv-Dil: (1,4)/Pool/Drop]**  \n",
    "Stacked Output: **Stack/Reshape -> [Conv/Pool/Drop]**  \n",
    "Epochs: 40  \n",
    "Training Accuracy: ~0.94 (~0.73 @ 10 epochs)    \n",
    "Validation Accuracy: ~0.49 (~0.54 @ 10 epochs)     "
   ]
  },
  {
   "cell_type": "markdown",
   "metadata": {},
   "source": [
    "## LSTM Models\n",
    "3 Current Models:  \n",
    "1) LSTM only - involves breaking each promoter sequence into smaller subsequences (looking for short patterns, i.e. TF binding motifs)  \n",
    "2) Conv + LSTM (sequential) - applies convolutions/pooling to \"summarize\" promoter sequence first and then applies LSTM to get longer range patterns across the entire sequence \"summary\"  \n",
    "3) Conv + LSTM (parallel) - same as LSTM only model but with addition of separate branch consisting of multiple convolutional layers (representations of each branch are obtained via a dense layer for each branch and then concatenated)  \n",
    "\n",
    "----\n",
    "\n",
    "### Conv + LSTM\n",
    "Architecture: (see below)   \n",
    "Epochs: 20  \n",
    "Training Accuracy: ~0.4-0.6 (highly variable...)  \n",
    "Validation Accuracy: ~0.44 (validation loss doesn't appear to be declining)  \n",
    "\n",
    "Training for more epochs...  \n",
    "Epochs (total): 45  \n",
    "Training Accuracy: ~0.75 (still highly variable...)  \n",
    "Validation Accuracy: ~0.56  \n",
    "\n",
    "----\n",
    "Architecture: (see below, changed pooling dimensions to (1,5) and stride to (1,5))  \n",
    "Epochs: 20  \n",
    "Training Accuracy: ~0.5 (highly variable...)  \n",
    "Validation Accuracy: ~0.4 (validation loss doesn't appear to be declining)  "
   ]
  },
  {
   "cell_type": "code",
   "execution_count": null,
   "metadata": {
    "collapsed": true
   },
   "outputs": [],
   "source": [
    "# LSTM block\n",
    "conv1 = Conv2D(8,[4,5],activation='linear',\n",
    "                name='convTrans_1',padding='valid')(dna)\n",
    "leak1 = LeakyReLU(alpha=.001)(conv1)\n",
    "pool1 = AveragePooling2D((1,2),strides=(1,2),name='AvgPoolTrans_1',padding='same')(leak1) \n",
    "conv2 = Conv2D(1,[1,1],activation='linear',name='convTrans1x1',padding='same')(pool1)\n",
    "reshapedSeq = tf.reshape(tf.squeeze(conv2,[1,3]),[tf.shape(conv2)[0],31,8])\n",
    "lstm1 = RNN(reshapedSeq,n_steps,n_hidden,100)\n",
    "\n",
    "FC = Dense(50,activation='relu',name='representation')(lstm1)\n",
    "preds = Dense(num_species,activation='softmax')(FC)"
   ]
  },
  {
   "cell_type": "markdown",
   "metadata": {},
   "source": [
    "### LSTM + Conv\n",
    "Architecture: (see below)  \n",
    "Epochs: 20  \n",
    "Training Accuracy: ~0.2 (highly variable...)  \n",
    "Validation Accuracy: ~0.15 (validation loss doesn't appear to be declining) "
   ]
  },
  {
   "cell_type": "code",
   "execution_count": null,
   "metadata": {
    "collapsed": true
   },
   "outputs": [],
   "source": [
    "reshapedDNA = tf.concat(tf.split(tf.squeeze(dna,[3]),int(promoter_length/n_steps),2),0)\n",
    "reshapedDNA = tf.reshape(reshapedDNA,[tf.shape(reshapedDNA)[0],tf.shape(reshapedDNA)[2],4])\n",
    "with tf.variable_scope('LSTM1'):\n",
    "    lstm1 = RNN(reshapedDNA,n_steps,n_hidden,32)\n",
    "\n",
    "n_steps2 = int(promoter_length/n_steps)\n",
    "reshapedLSTM1 = tf.reshape(lstm1,[tf.shape(dna)[0],n_steps2,32])\n",
    "\n",
    "reshapedLSTM1 = tf.reshape(reshapedLSTM1,[tf.shape(reshapedLSTM1)[0],32,n_steps2])\n",
    "drop1 = conv_pool_drop(tf.expand_dims(reshapedLSTM1,3),2,4,filter_width,num_filters)\n",
    "drop2 = conv_pool_drop(drop1,2,4,filter_width,num_filters)\n",
    "\n",
    "flat = Flatten()(drop2)\n",
    "FC = Dense(50,activation='relu',name='representation')(flat)\n",
    "preds = Dense(num_species,activation='softmax')(FC)"
   ]
  },
  {
   "cell_type": "markdown",
   "metadata": {},
   "source": [
    "### LSTM (only)\n",
    "Architecture: (see below)  \n",
    "Epochs: ~20 (stopped)   \n",
    "Patch Length: 10  \n",
    "Training Accuracy: ~0.12-0.3 (highly variable...)    \n",
    "Validation Accuracy: ~0.13    \n",
    "\n",
    "Architecture: (see below, change 50s to 25)  \n",
    "Epochs: 20  \n",
    "Patch Length: 20  \n",
    "Training Accuracy: ~0.2 (highly variable...)    \n",
    "Validation Accuracy: ~0.14  "
   ]
  },
  {
   "cell_type": "code",
   "execution_count": null,
   "metadata": {
    "collapsed": true
   },
   "outputs": [],
   "source": [
    "reshapedDNA = tf.concat(tf.split(tf.squeeze(dna,[3]),50,2),0)\n",
    "reshapedDNA = tf.reshape(reshapedDNA,[tf.shape(reshapedDNA)[0],tf.shape(reshapedDNA)[2],4])\n",
    "lstm1 = RNN(reshapedDNA,n_steps,n_hidden,100)\n",
    "reshapedLSTM = tf.reshape(lstm1,[tf.shape(dna)[0],50,100])\n",
    "\n",
    "flat = Flatten()(reshapedLSTM)\n",
    "FC = Dense(50,activation='relu',name='representation')(flat)\n",
    "preds = Dense(num_species,activation='softmax')(FC)"
   ]
  },
  {
   "cell_type": "markdown",
   "metadata": {},
   "source": [
    "### LSTM (2 Layers)\n",
    "\n",
    "n_steps = 20  \n",
    "Architecture: (see below)  \n",
    "Epochs: 20  \n",
    "Training Accuracy: ~0.18  \n",
    "Validation Accuracy: ~0.15    \n",
    "\n",
    "----\n",
    "\n",
    "n_steps = 5    \n",
    "Architecture: (see below)  \n",
    "Epochs: 20  \n",
    "Training Accuracy: ~0.18  \n",
    "Validation Accuracy: ~0.15    "
   ]
  },
  {
   "cell_type": "code",
   "execution_count": null,
   "metadata": {
    "collapsed": true
   },
   "outputs": [],
   "source": [
    "\n",
    "reshapedDNA = tf.concat(tf.split(tf.squeeze(dna,[3]),int(promoter_length/n_steps),2),0)\n",
    "reshapedDNA = tf.reshape(reshapedDNA,[tf.shape(reshapedDNA)[0],tf.shape(reshapedDNA)[2],4])\n",
    "with tf.variable_scope('LSTM1'):\n",
    "    lstm1 = RNN(reshapedDNA,n_steps,n_hidden,32)\n",
    "\n",
    "n_steps2 = int(promoter_length/n_steps)\n",
    "reshapedLSTM1 = tf.reshape(lstm1,[tf.shape(dna)[0],n_steps2,32])\n",
    "with tf.variable_scope('LSTM2'):\n",
    "    lstm2 = RNN(reshapedLSTM1,n_steps2,n_hidden,64)\n",
    "\n",
    "FC = Dense(50,activation='relu',name='representation')(lstm2)\n",
    "preds = Dense(num_species,activation='softmax')(FC)"
   ]
  },
  {
   "cell_type": "markdown",
   "metadata": {},
   "source": [
    "### LSTM + Conv (Parallel Branches)\n",
    "Architecture: (see below)  \n",
    "Epochs: ~20 (stopped)  \n",
    "Training Accuracy: ~0.6-0.8 (highly variable...)  \n",
    "Validation Accuracy: ~0.55  \n"
   ]
  },
  {
   "cell_type": "markdown",
   "metadata": {
    "collapsed": true
   },
   "source": [
    "# Results Log (Species Prediction) - 10 Species \"Baseline\""
   ]
  },
  {
   "cell_type": "markdown",
   "metadata": {},
   "source": [
    "## Regular Convolutional Neural Network\n",
    "\n",
    "Epochs: 60  \n",
    "Training Accuracy: ~0.7-0.8 (variable...)  \n",
    "Validation Accuracy: ~0.61  "
   ]
  },
  {
   "cell_type": "code",
   "execution_count": 3,
   "metadata": {
    "collapsed": false
   },
   "outputs": [
    {
     "name": "stderr",
     "output_type": "stream",
     "text": [
      "Using TensorFlow backend.\n"
     ]
    },
    {
     "name": "stdout",
     "output_type": "stream",
     "text": [
      "[[500  37   2  12 344  10  47   1  37  10]\n",
      " [ 36 828   3   8  63  16  25   0  20   1]\n",
      " [  4   1 680 211   0  14   4  49   8  29]\n",
      " [ 11   2 316 541   5  36   2  58   3  26]\n",
      " [187  46   0  10 654  27  12   0  64   0]\n",
      " [ 32  18  60  66  43 673  27  24  19  38]\n",
      " [ 81  54   7  14 105  59 638  11  28   3]\n",
      " [  5   1 155 113   2  28   6 668   0  22]\n",
      " [107  58  13  24 178  51  14   4 546   5]\n",
      " [  8   2 286 173   6 105  13  63   2 342]]\n"
     ]
    }
   ],
   "source": [
    "execfile('analysis.py')\n",
    "label_names = ['sCer','cEleg','Mouse','Human','sPom','Zebrafish','dMelan','Chicken','aThal','Lizard']\n",
    "model_name = 'all10_model'\n",
    "model_dir = 'results/all10/'\n",
    "testdata_file = 'data/h5datasets/all10/validation_even.h5'\n",
    "a = getPredictions(model_name,model_dir,testdata_file,label_names,limit=False)\n",
    "print(a[1])"
   ]
  },
  {
   "cell_type": "code",
   "execution_count": 7,
   "metadata": {
    "collapsed": false
   },
   "outputs": [
    {
     "name": "stdout",
     "output_type": "stream",
     "text": [
      "[ 0.51493306  0.79083095  0.44678055  0.4616041   0.46714286  0.66045142\n",
      "  0.80964467  0.76082005  0.75103164  0.71848739]\n",
      "[ 0.5    0.828  0.68   0.541  0.654  0.673  0.638  0.668  0.546  0.342]\n"
     ]
    }
   ],
   "source": [
    "precision, recall = calcPrecisionRecall(a[1].astype(float))\n",
    "print(precision)\n",
    "print(recall)"
   ]
  },
  {
   "cell_type": "code",
   "execution_count": null,
   "metadata": {
    "collapsed": false
   },
   "outputs": [],
   "source": [
    "from scipy.cluster.hierarchy import dendrogram, linkage\n",
    "dendrogram(linkage(a[1]),labels=label_names)"
   ]
  },
  {
   "cell_type": "markdown",
   "metadata": {},
   "source": [
    "<img src=\"Notes/images/all10dend.png\" alt=\"Confusion Matrix Dendrogram (All 10 Species)\" style=\"width: 700px;\"/>"
   ]
  },
  {
   "cell_type": "markdown",
   "metadata": {},
   "source": [
    "## Densely Connected Network\n",
    "\n",
    "Epochs: 50  \n",
    "Training Accuracy: ~0.76   \n",
    "Validation Accuracy: ~0.65 (still appears to be room for improvement)  \n",
    "\n",
    "Additional training...  \n",
    "Epochs: 50 (100 total)  \n",
    "Training Accuracy: ~0.85 (still continues to increase...)  \n",
    "Validation Accuracy: ~0.66 (no signs of increase; same with loss)    "
   ]
  },
  {
   "cell_type": "markdown",
   "metadata": {},
   "source": [
    "## RNN Models\n",
    "\n",
    "### LSTM Cell(s)  \n",
    "\n",
    "**timestep = 20**  \n",
    "Architecture: (see below)\n",
    "Training Accuracy: ~0.5 (variable...)  \n",
    "Validation Accuracy: ~0.39  \n",
    "\n",
    "Architecture: (same as below except with **stacked RNNs - 2**)  \n",
    "Epochs: 20  \n",
    "Training Accuracy: ~0.5 (variable...)    \n",
    "Validation Accuracy: ~0.41  \n",
    "\n",
    "Architecture: (same as above except with **stacked RNNs - 3**)  \n",
    "Epochs: \n",
    "Training Accuracy: ~0.72 (continually increasing...)    \n",
    "Validation Accuracy: ~0.38 (high of ~0.4 @25 epochs)   \n",
    "\n",
    "----\n",
    "\n",
    "**timestep = 50**  \n",
    "Architecture: (see below)  \n",
    "Epochs: 60  \n",
    "Training Accuracy: ~0.60    \n",
    "Validation Accuracy: ~0.45       \n",
    "\n",
    "training for more epochs...  \n",
    "Epochs: 120  \n",
    "Training Accuracy: ~0.78 (~0.60 @ 60 epochs)  \n",
    "Validation Accuracy: ~0.42 (~0.47 @ 60 epochs)    \n",
    "\n",
    "----\n",
    "\n",
    "**timestep = 100**  \n",
    "Architecture: (see below)  \n",
    "Epochs: 50  \n",
    "Training Accuracy: ~0.57      \n",
    "Validation Accuracy: ~0.48 (appears to be continually increasing, while loss is decreasing...train for more epochs)  \n"
   ]
  },
  {
   "cell_type": "code",
   "execution_count": null,
   "metadata": {
    "collapsed": true
   },
   "outputs": [],
   "source": [
    "reshapedDNA = tf.reshape(tf.squeeze(dna,[3]),[tf.shape(dna)[0],n_steps,int(promoter_length/n_steps)*4])\n",
    "with tf.variable_scope('LSTM1'):\n",
    "    lstm1 = RNN(reshapedDNA,n_steps,n_hidden,32)\n",
    "    \n",
    "FC = Dense(50,activation='relu',name='representation')(lstm1)\n",
    "preds = Dense(num_species,activation='softmax')(FC)"
   ]
  },
  {
   "cell_type": "markdown",
   "metadata": {},
   "source": [
    "**Subsequence LSTM + concatenated output LSTM (timestep = 5)**  \n",
    "Architecture: (see below)\n",
    "Epochs: 30  \n",
    "Training Accuracy: ~0.2-0.3 (highly variable)  \n",
    "Validation Accuracy: ~0.18  "
   ]
  },
  {
   "cell_type": "code",
   "execution_count": null,
   "metadata": {
    "collapsed": true
   },
   "outputs": [],
   "source": [
    "n_steps = 5\n",
    "\n",
    "reshapedDNA = tf.concat(tf.split(tf.squeeze(dna,[3]),int(promoter_length/n_steps),2),0)\n",
    "reshapedDNA = tf.reshape(reshapedDNA,[tf.shape(reshapedDNA)[0],tf.shape(reshapedDNA)[2],4])\n",
    "with tf.variable_scope('LSTM1'):\n",
    "    lstm1 = RNN(reshapedDNA,n_steps,n_hidden,100)\n",
    "\n",
    "n_steps2 = int(promoter_length/n_steps)\n",
    "reshapedLSTM1 = tf.reshape(lstm1,[tf.shape(dna)[0],n_steps2,100])\n",
    "with tf.variable_scope('LSTM2'):\n",
    "    lstm2 = RNN(reshapedLSTM1,n_steps2,n_hidden,100)"
   ]
  },
  {
   "cell_type": "markdown",
   "metadata": {},
   "source": [
    "### GRU Models\n",
    "Architecture: (see above, same except change in cell type)  \n",
    "Hidden Units: 128  \n",
    "Epochs: 80  \n",
    "Training Accuracy: ~0.48  \n",
    "Validation Accuracy: ~0.48 (doesn't seem to be continuing to decrease...)  \n",
    "\n",
    "Hidden Units: 512  \n",
    "Epochs: 80  \n",
    "Training Accuracy: ~0.9    \n",
    "Validation Accuracy: ~0.4    \n"
   ]
  },
  {
   "cell_type": "markdown",
   "metadata": {},
   "source": [
    "# Results Log (Species Prediction) - 10 Species \"Baseline\" (Binary)"
   ]
  },
  {
   "cell_type": "markdown",
   "metadata": {},
   "source": [
    "## Regular Convolutional Neural Network\n",
    "\n",
    "Epochs: ~59 (stopped)    \n",
    "Training Accuracy: ~0.68  \n",
    "Validation Accuracy: ~0.5  \n",
    "\n",
    "Epochs: 80  \n",
    "Training \"Exact Match\" Accuracy: ~0.5 (highly variable...)  \n",
    "Validation \"Exact Match\" Accuracy: ~0.47 (appears to be slowly increasing...same with total loss)    \n",
    "\n",
    "**4 Conv/Pool/Drop Layers (w/ precision, recall statistics)**    \n",
    "Epochs: 50  \n",
    "Training Exact Match Accuracy: ~0.5    \n",
    "Training Precision: ~0.8 (gets up to as high as 0.85)    \n",
    "Training Recall: ~0.5    \n",
    "Validation Exact Match Accuracy: ~0.44   \n",
    "Validation Precision: ~0.75    \n",
    "Validation Recall: ~0.44    "
   ]
  },
  {
   "cell_type": "code",
   "execution_count": null,
   "metadata": {
    "collapsed": true
   },
   "outputs": [],
   "source": [
    "drop1 = conv_pool_drop(dna,1,filter_height1,filter_width,num_filters)\n",
    "drop2 = conv_pool_drop(drop1,2,filter_height2,filter_width,num_filters)\n",
    "drop3 = conv_pool_drop(drop2,3,filter_height2,filter_width,num_filters)\n",
    "drop4 = conv_pool_drop(drop2,4,filter_height2,filter_width,num_filters)"
   ]
  },
  {
   "cell_type": "markdown",
   "metadata": {},
   "source": [
    "**Regular Convolution + LSTM (Only)**  \n",
    "\n",
    "Output File: all10binBinary_RegConv.output   \n",
    "\n",
    "Architecture: (see below)  \n",
    "Epochs: 80  \n",
    "Training Exact Match Accuracy: ~0.5          \n",
    "Training Precision: ~0.77 (gets up to as high as 0.78)    \n",
    "Training Recall: ~0.46 (gets up to as high as 0.25)    \n",
    "Validation Exact Match Accuracy: ~0.46         \n",
    "Validation Precision: ~0.69        \n",
    "Validation Recall: ~0.47      "
   ]
  },
  {
   "cell_type": "code",
   "execution_count": null,
   "metadata": {
    "collapsed": true
   },
   "outputs": [],
   "source": [
    "with tf.variable_scope('RNN2'):\n",
    "    conv1 = Conv2D(32,[4,5],activation='linear',\n",
    "                    name='convTrans_1',padding='valid')(dna)\n",
    "    leak1 = LeakyReLU(alpha=.001)(conv1)\n",
    "    pool1 = AveragePooling2D((1,2),strides=(1,2),name='AvgPoolTrans_1',padding='same')(leak1) \n",
    "    conv2 = Conv2D(8,[1,5],activation='linear',\n",
    "                    name='convTrans_2',padding='valid')(pool1)\n",
    "    leak2 = LeakyReLU(alpha=.001)(conv2)\n",
    "    pool2 = AveragePooling2D((1,2),strides=(1,2),name='AvgPoolTrans_2',padding='same')(leak2) \n",
    "    reshapedConv = tf.reshape(tf.squeeze(pool2,[1]),[tf.shape(dna)[0],61,16])\n",
    "    rnn2 = RNN(reshapedConv,61,n_hidden,50,celltype='GRU')"
   ]
  },
  {
   "cell_type": "markdown",
   "metadata": {
    "collapsed": true
   },
   "source": [
    "## Combinations\n",
    "\n",
    "**Raw Branch + Regular Convolution Branch + Dilated Convolution Branch**  \n",
    "\n",
    "Output File: all10binBinary3Branches.output  \n",
    "\n",
    "Architecture: (see below)  \n",
    "Epochs: 80  \n",
    "Training Exact Match Accuracy: ~0.6      \n",
    "Training Precision: ~0.82 (gets up to as high as 0.89)    \n",
    "Training Recall: ~0.65  \n",
    "Validation Exact Match Accuracy: ~0.53     \n",
    "Validation Precision: ~0.75    \n",
    "Validation Recall: ~0.56   \n"
   ]
  },
  {
   "cell_type": "code",
   "execution_count": null,
   "metadata": {
    "collapsed": true
   },
   "outputs": [],
   "source": [
    "# Raw Branch\n",
    "with tf.variable_scope('RNN1'):\n",
    "    reshapedDNA = tf.reshape(tf.squeeze(dna,[3]),[tf.shape(dna)[0],n_steps,int(promoter_length/n_steps)*4])\n",
    "    rnn1 = RNN(reshapedDNA,n_steps,n_hidden,50,celltype='GRU')\n",
    "\n",
    "# Regular Convolution Branch\n",
    "with tf.variable_scope('RNN2'):\n",
    "    conv1 = Conv2D(32,[4,5],activation='linear',\n",
    "                    name='convTrans_1',padding='valid')(dna)\n",
    "    leak1 = LeakyReLU(alpha=.001)(conv1)\n",
    "    pool1 = AveragePooling2D((1,2),strides=(1,2),name='AvgPoolTrans_1',padding='same')(leak1) \n",
    "    conv2 = Conv2D(8,[1,5],activation='linear',\n",
    "                    name='convTrans_2',padding='valid')(pool1)\n",
    "    leak2 = LeakyReLU(alpha=.001)(conv2)\n",
    "    pool2 = AveragePooling2D((1,2),strides=(1,2),name='AvgPoolTrans_2',padding='same')(leak2) \n",
    "    reshapedConv = tf.reshape(tf.squeeze(pool2,[1]),[tf.shape(dna)[0],61,16])\n",
    "    rnn2 = RNN(reshapedConv,61,n_hidden,50,celltype='GRU')\n",
    "\n",
    "# Dilated Convolution Branch\n",
    "with tf.variable_scope('RNN3'):\n",
    "    convDil1 = Conv2D(32,[4,5],activation='linear',\n",
    "                    name='convTrans_1',padding='valid',dilation_rate=(1,5))(dna)\n",
    "    leakDil1 = LeakyReLU(alpha=.001)(convDil1)\n",
    "    print(leakDil1)\n",
    "    poolDil1 = AveragePooling2D((1,2),strides=(1,2),name='AvgPoolTrans_1',padding='same')(leakDil1) \n",
    "    convDil2 = Conv2D(8,[1,5],activation='linear',\n",
    "                    name='convTrans_2',padding='valid',dilation_rate=(1,5))(poolDil1)\n",
    "    leakDil2 = LeakyReLU(alpha=.001)(convDil2)\n",
    "    poolDil2 = AveragePooling2D((1,2),strides=(1,2),name='AvgPoolTrans_2',padding='same')(leakDil2) \n",
    "    print(poolDil2)\n",
    "    reshapedDilConv = tf.reshape(tf.squeeze(poolDil2,[1]),[tf.shape(dna)[0],55,16])\n",
    "    rnn3 = RNN(reshapedDilConv,55,n_hidden,50,celltype='GRU')  "
   ]
  },
  {
   "cell_type": "markdown",
   "metadata": {},
   "source": [
    "**Raw Branch + Regular Convolution Branch + Dilated Convolution Branch (w/ All Sequence Outputs + Dense Layers at Ends)**  \n",
    "\n",
    "Output File: all10binBinary3BranchesDense.output  \n",
    "\n",
    "Architecture: (see below)  \n",
    "Epochs: 80  \n",
    "Training Exact Match Accuracy: ~0.8        \n",
    "Training Precision: ~0.91 (gets up to as high as 0.95)    \n",
    "Training Recall: ~0.85 (gets up to as high as 0.89)    \n",
    "Validation Exact Match Accuracy: ~0.51       \n",
    "Validation Precision: ~0.60      \n",
    "Validation Recall: ~0.52     "
   ]
  },
  {
   "cell_type": "code",
   "execution_count": null,
   "metadata": {
    "collapsed": true
   },
   "outputs": [],
   "source": [
    "with tf.variable_scope('RNN1'):\n",
    "    reshapedDNA = tf.reshape(tf.squeeze(dna,[3]),[tf.shape(dna)[0],n_steps,int(promoter_length/n_steps)*4])\n",
    "    rnn1 = RNN(reshapedDNA,n_steps,n_hidden,16,celltype='GRU',return_seq=True)\n",
    "    rnn1stacked = tf.reshape(tf.concat(rnn1,axis=1),[tf.shape(dna)[0],n_steps,16])\n",
    "    rnn1Dense = Dense(100,activation='relu')(Flatten()(rnn1stacked))\n",
    "    print(rnn1Dense)\n",
    "\n",
    "# Regular Convolution Branch\n",
    "with tf.variable_scope('RNN2'):\n",
    "    conv1 = Conv2D(32,[4,5],activation='linear',\n",
    "                    name='convTrans_1',padding='valid')(dna)\n",
    "    leak1 = LeakyReLU(alpha=.001)(conv1)\n",
    "    pool1 = AveragePooling2D((1,2),strides=(1,2),name='AvgPoolTrans_1',padding='same')(leak1) \n",
    "    conv2 = Conv2D(8,[1,5],activation='linear',\n",
    "                    name='convTrans_2',padding='valid')(pool1)\n",
    "    leak2 = LeakyReLU(alpha=.001)(conv2)\n",
    "    pool2 = AveragePooling2D((1,2),strides=(1,2),name='AvgPoolTrans_2',padding='same')(leak2) \n",
    "    reshapedConv = tf.reshape(tf.squeeze(pool2,[1]),[tf.shape(dna)[0],61,16])\n",
    "    rnn2 = RNN(reshapedConv,61,n_hidden,16,celltype='GRU',return_seq=True)\n",
    "    rnn2stacked = tf.reshape(tf.concat(rnn2,axis=1),[tf.shape(dna)[0],61,16])\n",
    "    print(rnn2stacked)\n",
    "    rnn2Dense = Dense(100,activation='relu')(Flatten()(rnn2stacked))\n",
    "    print(rnn2Dense)\n",
    "\n",
    "# Dilated Convolution Branch\n",
    "with tf.variable_scope('RNN3'):\n",
    "    convDil1 = Conv2D(32,[4,5],activation='linear',\n",
    "                    name='convTrans_1',padding='valid',dilation_rate=(1,5))(dna)\n",
    "    leakDil1 = LeakyReLU(alpha=.001)(convDil1)\n",
    "    poolDil1 = AveragePooling2D((1,2),strides=(1,2),name='AvgPoolTrans_1',padding='same')(leakDil1) \n",
    "    convDil2 = Conv2D(8,[1,5],activation='linear',\n",
    "                    name='convTrans_2',padding='valid',dilation_rate=(1,5))(poolDil1)\n",
    "    leakDil2 = LeakyReLU(alpha=.001)(convDil2)\n",
    "    poolDil2 = AveragePooling2D((1,2),strides=(1,2),name='AvgPoolTrans_2',padding='same')(leakDil2) \n",
    "    reshapedDilConv = tf.reshape(tf.squeeze(poolDil2,[1]),[tf.shape(dna)[0],55,16])\n",
    "    rnn3 = RNN(reshapedDilConv,55,n_hidden,16,celltype='GRU',return_seq=True)    \n",
    "    rnn3stacked = tf.reshape(tf.concat(rnn3,axis=1),[tf.shape(dna)[0],55,16])\n",
    "    print(rnn3stacked)\n",
    "    rnn3Dense = Dense(100,activation='relu')(Flatten()(rnn3stacked))\n",
    "    print(rnn3Dense)"
   ]
  },
  {
   "cell_type": "markdown",
   "metadata": {},
   "source": [
    "**Raw Branch + Regular Convolution Branch + Dilated Convolution Branch (w/ Longer Time Steps, t=100)**  \n",
    "\n",
    "Output File: all10binBinary3BranchesLong.output  \n",
    "\n",
    "Architecture: (see below)  \n",
    "Epochs: 80  \n",
    "Training Exact Match Accuracy: ~0.6          \n",
    "Training Precision: ~0.8 (gets up to as high as 0.88)    \n",
    "Training Recall: ~0.6 (gets up to as high as 0.70)      \n",
    "Validation Exact Match Accuracy: ~0.55         \n",
    "Validation Precision: ~0.75       \n",
    "Validation Recall: ~0.57       "
   ]
  },
  {
   "cell_type": "code",
   "execution_count": null,
   "metadata": {
    "collapsed": true
   },
   "outputs": [],
   "source": [
    "# Raw Branch\n",
    "with tf.variable_scope('RNN1'):\n",
    "    reshapedDNA = tf.reshape(tf.squeeze(dna,[3]),[tf.shape(dna)[0],n_steps,int(promoter_length/n_steps)*4])\n",
    "    rnn1 = RNN(reshapedDNA,n_steps,n_hidden,50,celltype='GRU')\n",
    "\n",
    "# Regular Convolution Branch\n",
    "with tf.variable_scope('RNN2'):\n",
    "    conv1 = Conv2D(32,[4,5],activation='linear',\n",
    "                    name='convTrans_1',padding='valid')(dna)\n",
    "    leak1 = LeakyReLU(alpha=.001)(conv1)\n",
    "    pool1 = AveragePooling2D((1,2),strides=(1,2),name='AvgPoolTrans_1',padding='same')(leak1) \n",
    "    conv2 = Conv2D(8,[1,5],activation='linear',\n",
    "                    name='convTrans_2',padding='valid')(pool1)\n",
    "    leak2 = LeakyReLU(alpha=.001)(conv2)\n",
    "    pool2 = AveragePooling2D((1,2),strides=(1,2),name='AvgPoolTrans_2',padding='same')(leak2) \n",
    "    reshapedConv = tf.squeeze(pool2,[1])\n",
    "    # reshapedConv = tf.reshape(tf.squeeze(pool2,[1]),[tf.shape(dna)[0],61,16])\n",
    "    rnn2 = RNN(reshapedConv,122,n_hidden,50,celltype='GRU')\n",
    "\n",
    "# Dilated Convolution Branch\n",
    "with tf.variable_scope('RNN3'):\n",
    "    convDil1 = Conv2D(32,[4,5],activation='linear',\n",
    "                    name='convTrans_1',padding='valid',dilation_rate=(1,5))(dna)\n",
    "    leakDil1 = LeakyReLU(alpha=.001)(convDil1)\n",
    "    poolDil1 = AveragePooling2D((1,2),strides=(1,2),name='AvgPoolTrans_1',padding='same')(leakDil1) \n",
    "    convDil2 = Conv2D(8,[1,5],activation='linear',\n",
    "                    name='convTrans_2',padding='valid',dilation_rate=(1,5))(poolDil1)\n",
    "    leakDil2 = LeakyReLU(alpha=.001)(convDil2)\n",
    "    poolDil2 = AveragePooling2D((1,2),strides=(1,2),name='AvgPoolTrans_2',padding='same')(leakDil2) \n",
    "    reshapedDilConv = tf.squeeze(poolDil2,[1])\n",
    "    # reshapedDilConv = tf.reshape(tf.squeeze(poolDil2,[1]),[tf.shape(dna)[0],55,16])\n",
    "    rnn3 = RNN(reshapedDilConv,110,n_hidden,50,celltype='GRU')  "
   ]
  },
  {
   "cell_type": "markdown",
   "metadata": {},
   "source": [
    "**Raw Branch + Regular Convolution Branch + Dilated Convolution Branch (w/ Mean of all Sequence Outputs)**  \n",
    "\n",
    "Output File: all10binBinary3BranchesMean.output  \n",
    "\n",
    "Architecture: (see below)  \n",
    "Epochs: 80  \n",
    "Training Exact Match Accuracy: ~0.65       \n",
    "Training Precision: ~0.85  \n",
    "Training Recall: 0.68 (gets up to as high as 0.72)      \n",
    "Validation Exact Match Accuracy: ~0.53             \n",
    "Validation Precision: ~0.7 (stays fairly consistent)         \n",
    "Validation Recall: ~0.53           "
   ]
  },
  {
   "cell_type": "code",
   "execution_count": null,
   "metadata": {
    "collapsed": true
   },
   "outputs": [],
   "source": [
    "with tf.variable_scope('RNN1'):\n",
    "    reshapedDNA = tf.reshape(tf.squeeze(dna,[3]),[tf.shape(dna)[0],n_steps,int(promoter_length/n_steps)*4])\n",
    "    rnn1 = RNN(reshapedDNA,n_steps,n_hidden,50,celltype='GRU',return_seq=True)\n",
    "    rnn1mean = tf.divide(tf.add_n(rnn1),float(n_steps))\n",
    "\n",
    "# Regular Convolution Branch\n",
    "with tf.variable_scope('RNN2'):\n",
    "    conv1 = Conv2D(32,[4,5],activation='linear',\n",
    "                    name='convTrans_1',padding='valid')(dna)\n",
    "    leak1 = LeakyReLU(alpha=.001)(conv1)\n",
    "    pool1 = AveragePooling2D((1,2),strides=(1,2),name='AvgPoolTrans_1',padding='same')(leak1) \n",
    "    conv2 = Conv2D(8,[1,5],activation='linear',\n",
    "                    name='convTrans_2',padding='valid')(pool1)\n",
    "    leak2 = LeakyReLU(alpha=.001)(conv2)\n",
    "    pool2 = AveragePooling2D((1,2),strides=(1,2),name='AvgPoolTrans_2',padding='same')(leak2) \n",
    "    reshapedConv = tf.reshape(tf.squeeze(pool2,[1]),[tf.shape(dna)[0],61,16])\n",
    "    rnn2 = RNN(reshapedConv,61,n_hidden,50,celltype='GRU',return_seq=True)\n",
    "    rnn2mean = tf.divide(tf.add_n(rnn2),61.)\n",
    "\n",
    "# Dilated Convolution Branch\n",
    "with tf.variable_scope('RNN3'):\n",
    "    convDil1 = Conv2D(32,[4,5],activation='linear',\n",
    "                    name='convTrans_1',padding='valid',dilation_rate=(1,5))(dna)\n",
    "    leakDil1 = LeakyReLU(alpha=.001)(convDil1)\n",
    "    print(leakDil1)\n",
    "    poolDil1 = AveragePooling2D((1,2),strides=(1,2),name='AvgPoolTrans_1',padding='same')(leakDil1) \n",
    "    convDil2 = Conv2D(8,[1,5],activation='linear',\n",
    "                    name='convTrans_2',padding='valid',dilation_rate=(1,5))(poolDil1)\n",
    "    leakDil2 = LeakyReLU(alpha=.001)(convDil2)\n",
    "    poolDil2 = AveragePooling2D((1,2),strides=(1,2),name='AvgPoolTrans_2',padding='same')(leakDil2) \n",
    "    print(poolDil2)\n",
    "    reshapedDilConv = tf.reshape(tf.squeeze(poolDil2,[1]),[tf.shape(dna)[0],55,16])\n",
    "    rnn3 = RNN(reshapedDilConv,55,n_hidden,50,celltype='GRU',return_seq=True)  \n",
    "    rnn3mean = tf.divide(tf.add_n(rnn3),55.)"
   ]
  },
  {
   "cell_type": "markdown",
   "metadata": {},
   "source": [
    "**Raw Branch + Regular Convolution Branch + Dilated Convolution Branch (w/ Attention)**  \n",
    "\n",
    "Output File: all10binBinary3BranchesMean.output  \n",
    "\n",
    "Architecture: (see below)  \n",
    "Epochs: 80  \n",
    "Training Exact Match Accuracy: ///         \n",
    "Training Precision: ///  \n",
    "Training Recall: /// (gets up to as high as 0.72)      \n",
    "Validation Exact Match Accuracy: ///             \n",
    "Validation Precision: /// (stays fairly consistent)         \n",
    "Validation Recall: ///           "
   ]
  },
  {
   "cell_type": "code",
   "execution_count": null,
   "metadata": {
    "collapsed": false
   },
   "outputs": [],
   "source": [
    "def attention(input_list):\n",
    "\n",
    "    # one-layer MLP to get representation of each RNN output (i.e. tensor in input_list)\n",
    "    annotRep = [Dense(50,activation='tanh')(inp) for inp in input_list]\n",
    "\n",
    "    # context vector\n",
    "    contextVecs = [tf.Variable(tf.random_normal([50])) for i in range(len(input_list))]\n",
    "\n",
    "    # multiply context vectors and RNN output representations + apply softmax function\n",
    "    # (to get normalized importance weights)\n",
    "    impWeights = [tf.nn.softmax(tf.multiply(annotRep[i],contextVecs[i])) for i \\\n",
    "        in range(len(input_list))]\n",
    "\n",
    "    # multiply original input tensors with importance weights and add products\n",
    "    seqVec = tf.add_n([tf.multiply(input_list[i],impWeights[i]) for i in range(len(input_list))])\n",
    "    \n",
    "    return seqVec\n",
    "\n",
    "with tf.variable_scope('RNN1'):\n",
    "    reshapedDNA = tf.reshape(tf.squeeze(dna,[3]),[tf.shape(dna)[0],n_steps,int(promoter_length/n_steps)*4])\n",
    "    rnn1 = RNN(reshapedDNA,n_steps,n_hidden,50,celltype='GRU',return_seq=True)\n",
    "    att1 = attention(rnn1)\n",
    "\n",
    "# Regular Convolution Branch\n",
    "with tf.variable_scope('RNN2'):\n",
    "    conv1 = Conv2D(32,[4,5],activation='linear',\n",
    "                    name='convTrans_1',padding='valid')(dna)\n",
    "    leak1 = LeakyReLU(alpha=.001)(conv1)\n",
    "    pool1 = AveragePooling2D((1,2),strides=(1,2),name='AvgPoolTrans_1',padding='same')(leak1) \n",
    "    conv2 = Conv2D(8,[1,5],activation='linear',\n",
    "                    name='convTrans_2',padding='valid')(pool1)\n",
    "    leak2 = LeakyReLU(alpha=.001)(conv2)\n",
    "    pool2 = AveragePooling2D((1,2),strides=(1,2),name='AvgPoolTrans_2',padding='same')(leak2) \n",
    "    reshapedConv = tf.reshape(tf.squeeze(pool2,[1]),[tf.shape(dna)[0],61,16])\n",
    "    rnn2 = RNN(reshapedConv,61,n_hidden,50,celltype='GRU',return_seq=True)\n",
    "    att2 = attention(rnn2)\n",
    "\n",
    "# Dilated Convolution Branch\n",
    "with tf.variable_scope('RNN3'):\n",
    "    convDil1 = Conv2D(32,[4,5],activation='linear',\n",
    "                    name='convTrans_1',padding='valid',dilation_rate=(1,5))(dna)\n",
    "    leakDil1 = LeakyReLU(alpha=.001)(convDil1)\n",
    "    poolDil1 = AveragePooling2D((1,2),strides=(1,2),name='AvgPoolTrans_1',padding='same')(leakDil1) \n",
    "    convDil2 = Conv2D(8,[1,5],activation='linear',\n",
    "                    name='convTrans_2',padding='valid',dilation_rate=(1,5))(poolDil1)\n",
    "    leakDil2 = LeakyReLU(alpha=.001)(convDil2)\n",
    "    poolDil2 = AveragePooling2D((1,2),strides=(1,2),name='AvgPoolTrans_2',padding='same')(leakDil2) \n",
    "    reshapedDilConv = tf.reshape(tf.squeeze(poolDil2,[1]),[tf.shape(dna)[0],55,16])\n",
    "    rnn3 = RNN(reshapedDilConv,55,n_hidden,50,celltype='GRU',return_seq=True)  \n",
    "    att3 = attention(rnn3)"
   ]
  },
  {
   "cell_type": "code",
   "execution_count": null,
   "metadata": {
    "collapsed": true
   },
   "outputs": [],
   "source": []
  }
 ],
 "metadata": {
  "kernelspec": {
   "display_name": "Python 2",
   "language": "python",
   "name": "python2"
  },
  "language_info": {
   "codemirror_mode": {
    "name": "ipython",
    "version": 2
   },
   "file_extension": ".py",
   "mimetype": "text/x-python",
   "name": "python",
   "nbconvert_exporter": "python",
   "pygments_lexer": "ipython2",
   "version": "2.7.11"
  }
 },
 "nbformat": 4,
 "nbformat_minor": 0
}
