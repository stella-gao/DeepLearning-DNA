{
 "cells": [
  {
   "cell_type": "markdown",
   "metadata": {},
   "source": [
    "# Results Log (Old: 6/30/17-7/22/17)"
   ]
  },
  {
   "cell_type": "markdown",
   "metadata": {},
   "source": [
    "## Species Prediction\n",
    "\n",
    "**New Sampling Method:**  \n",
    "1) create windows for each gene across all species  \n",
    "2) select ~80% of genes to be in training data, remaining ~20% to be in training data  \n",
    "3) determine species with the fewest genes and the corresponding number of windows associated with that species  \n",
    "4) randomly sample windows for each gene such that the number of total windows represented (# of genes x # of windows) is the same for each species  "
   ]
  },
  {
   "cell_type": "markdown",
   "metadata": {},
   "source": [
    "### Keras + Tensorflow Model"
   ]
  },
  {
   "cell_type": "markdown",
   "metadata": {},
   "source": [
    "**S. cerevisiae + C. elegans + Mouse + Humans** (w/o random sequences)"
   ]
  },
  {
   "cell_type": "code",
   "execution_count": 3,
   "metadata": {
    "collapsed": false
   },
   "outputs": [
    {
     "data": {
      "text/plain": [
       "array([[1486, 1030,   32,   35],\n",
       "       [ 789, 1620,   13,   25],\n",
       "       [  17,   13, 2274,  159],\n",
       "       [  31,   38,  323, 2115]])"
      ]
     },
     "execution_count": 3,
     "metadata": {},
     "output_type": "execute_result"
    }
   ],
   "source": [
    "import numpy as np\n",
    "np.array([[1486, 1030,   32,   35],\n",
    "       [ 789, 1620,   13,   25],\n",
    "       [  17,   13, 2274,  159],\n",
    "       [  31,   38,  323, 2115]])"
   ]
  },
  {
   "cell_type": "markdown",
   "metadata": {},
   "source": [
    "**S. cereivisiae + S. boulardii** (w/o random sequences)  \n",
    "Epochs: 15  \n",
    "End validation accuracy: ~0.65  \n",
    "\n",
    "**S. cerevisiae + C. elegans** (w/o random sequences)  \n",
    "Epochs: 15  \n",
    "End validation accuracy: ~0.93\n",
    "checking again...see cEleg.o24099987)  --> see matching FIDDLE results at fiddle.o24099925  (sCer_cEleg_results/exp1_norand_again)  \n",
    "\n",
    "**S. cerevisiae + S. pombe** (w/o random sequences)  \n",
    "Epochs: 15  \n",
    "End validation accuracy: ~0.75  \n",
    "\n",
    "**S. cerevisiae + C. elegans + Mouse + Human** (\"window\" limit, w/o random sequences)  \n",
    "Epochs: 15  \n",
    "End validation accruacy: ~0.75 (training accuracy only at ~0.87 at Epoch 15 with clear signs of potential continued growth)  "
   ]
  },
  {
   "cell_type": "code",
   "execution_count": 6,
   "metadata": {
    "collapsed": false
   },
   "outputs": [
    {
     "name": "stdout",
     "output_type": "stream",
     "text": [
      "[[1700  939   27   18]\n",
      " [ 866 1526    5   18]\n",
      " [  27    5 2281   92]\n",
      " [  89   44  324 2039]]\n"
     ]
    }
   ],
   "source": [
    "execfile('analysis.py')\n",
    "label_names = ['sCer','cEleg','Mouse','Human']\n",
    "model_name = 'all4Limit15epochs_model'\n",
    "model_dir = ''\n",
    "testdata_file = 'data/h5datasets/all4Limit/validation.h5'\n",
    "a = getPredictions(model_name,model_dir,testdata_file,label_names)\n",
    "print(a[1])"
   ]
  },
  {
   "cell_type": "markdown",
   "metadata": {},
   "source": [
    "**S. cerevisiae + C. elegans + Mouse + Human** (unmasked DNA, \"window\" limit, w/ random sequences)  \n",
    "Epochs: 40  \n",
    "End validation accuracy: ~0.80 (training accuracy only at ~0.87 at Epoch 40, hit ~0.90 earlier w/ potential signs of continued growth)  "
   ]
  },
  {
   "cell_type": "code",
   "execution_count": 2,
   "metadata": {
    "collapsed": false
   },
   "outputs": [
    {
     "name": "stdout",
     "output_type": "stream",
     "text": [
      "[[1931  701   19   33]\n",
      " [ 803 1586    6   20]\n",
      " [  19    3 2324   59]\n",
      " [  13    4   49 2430]]\n"
     ]
    }
   ],
   "source": [
    "execfile('analysis.py')\n",
    "label_names = ['sCer','cEleg','Mouse','Human']\n",
    "model_name = 'all4_unmasked_model'\n",
    "model_dir = ''\n",
    "testdata_file = 'data/h5datasets/all4Limit/validation.h5'\n",
    "a = getPredictions(model_name,model_dir,testdata_file,label_names)\n",
    "print(a[1])"
   ]
  },
  {
   "cell_type": "code",
   "execution_count": 5,
   "metadata": {
    "collapsed": false
   },
   "outputs": [
    {
     "data": {
      "text/html": [
       "<tr><td><img src='Notes/images/all4_unmasked40epochs_tsne.png'></td><td><img src='Notes/images/all4_unmasked40epochs_pca.png'></td></tr>"
      ],
      "text/plain": [
       "<IPython.core.display.HTML object>"
      ]
     },
     "metadata": {},
     "output_type": "display_data"
    }
   ],
   "source": [
    "from IPython.display import HTML, display\n",
    "display(HTML(\"<tr><td><img src='Notes/images/all4_unmasked40epochs_tsne.png'></td><td><img src='Notes/images/all4_unmasked40epochs_pca.png'></td></tr>\"))  "
   ]
  },
  {
   "cell_type": "code",
   "execution_count": 5,
   "metadata": {
    "collapsed": false
   },
   "outputs": [
    {
     "data": {
      "text/html": [
       "<tr><td><img src='Notes/images/all8_rep_Mouse_Human_pca.png'></td><td><img src='Notes/images/all8_rep_sCer_sBoul_pca.png'></td></tr>"
      ],
      "text/plain": [
       "<IPython.core.display.HTML object>"
      ]
     },
     "metadata": {},
     "output_type": "display_data"
    }
   ],
   "source": [
    "from IPython.display import HTML, display\n",
    "display(HTML(\"<tr><td><img src='Notes/images/all8_rep_Mouse_Human_pca.png'></td><td><img src='Notes/images/all8_rep_sCer_sBoul_pca.png'></td></tr>\"))  "
   ]
  },
  {
   "cell_type": "markdown",
   "metadata": {},
   "source": [
    "**S. cerevisiae + C. elegans + Mouse + Human: Additional Training on S. cerevisiae + C. elegans Data** (unmasked DNA, \"window\" limit, w/ random sequences)  \n",
    "Epochs: 10   \n",
    "End Validation Accuracy: eventually drops down to ~0.50 (can't just train on one set of species and ignore rest...)  "
   ]
  },
  {
   "cell_type": "markdown",
   "metadata": {},
   "source": [
    "**S. cerevisiae + C. elegans + Mouse + Human + S. pombe + Zebrafish + D. melanogaster + S. boulardii**  \n",
    "Epochs: 80   \n",
    "End Validation Accuracy: ~0.58 (training and validation loss appear to still be decreasing...try more epochs!)  "
   ]
  },
  {
   "cell_type": "code",
   "execution_count": 3,
   "metadata": {
    "collapsed": false
   },
   "outputs": [
    {
     "name": "stdout",
     "output_type": "stream",
     "text": [
      "[[ 358   22    6    3  176   27   44  844]\n",
      " [  38  972    1   12   56   21   48   25]\n",
      " [   5    0  671  258    2   30    3    2]\n",
      " [   7    0  296  615    2   67   13    4]\n",
      " [ 208   48    0    4  859   39   86  239]\n",
      " [   9   11   53   48   30  846   36   18]\n",
      " [  52   38    0   16   71   65 1083   47]\n",
      " [ 800   13    2   12  164    9   66  400]]\n"
     ]
    }
   ],
   "source": [
    "execfile('analysis.py')\n",
    "label_names = ['sCer','cEleg','Mouse','Human','sPom','Zebrafish','dMelan','sBoul']\n",
    "model_name = 'all8_model'\n",
    "model_dir = ''\n",
    "testdata_file = 'data/h5datasets/all8/validation.h5'\n",
    "a = getPredictions(model_name,model_dir,testdata_file,label_names)\n",
    "print(a[1])"
   ]
  },
  {
   "cell_type": "code",
   "execution_count": null,
   "metadata": {
    "collapsed": false
   },
   "outputs": [],
   "source": [
    "from scipy.cluster.hierarchy import dendrogram, linkage\n",
    "dendrogram(linkage(a[1]),labels=label_names)"
   ]
  },
  {
   "cell_type": "markdown",
   "metadata": {},
   "source": [
    "<img src=\"Notes/images/all8dend80epochs.png\" alt=\"Confusion Matrix Dendrogram (All 8 Species, 80 Epochs)\" style=\"width: 700px;\"/>"
   ]
  },
  {
   "cell_type": "markdown",
   "metadata": {},
   "source": [
    "### Keras + Tensorflow Model (w/ Dilated Convolution Branch)  \n",
    "\n",
    "**S. cerevisiae + C. elegans** (w/o random sequences)  \n",
    "2 regular convolutional layers + 1 dilated convolutional layer (dilation rate: 1,2)  \n",
    "Epochs: 15  \n",
    "End Validation Accuracy: ~0.88  \n",
    "\n",
    "**S. cerevisiae + C. elegans** (w/o random sequences)  \n",
    "1 regular convolutional layer + 1 dilated convolutional layer (dilation rate: 1,2)  \n",
    "Epochs: 15  \n",
    "End Validation Accuracy: ~0.88  \n",
    "\n",
    "**S. cerevisiae + C. elegans** (w/o random sequences)  \n",
    "1 regular convolutional layer + 1 dilated convolutional layer (dilation rate: 1,3)  \n",
    "Epochs: 15  \n",
    "End Validation Accuracy: ~0.85 (signs of overfitting after several epochs)  \n",
    "\n",
    "**S. cerevisiae + C. elegans** (w/o random sequences)  \n",
    "3 regular convolutional layers + 3 dilated convolution layers (dilation rate: (1,2), (1,4), (1,8))  \n",
    "Epochs: 15  \n",
    "End Validation Accuracy: ~0.91  "
   ]
  },
  {
   "cell_type": "markdown",
   "metadata": {},
   "source": [
    "### Keras Model  \n",
    "\n",
    "**S. cerevisiae + C. elegans**  \n",
    "Epochs: 15  \n",
    "Validation Accuracy: ~0.93  "
   ]
  },
  {
   "cell_type": "markdown",
   "metadata": {
    "collapsed": true
   },
   "source": [
    "### FIDDLE Model (Original)  \n",
    "**Encoder**: 2 convolutional layers (regular convolution) - FIDDLE default  \n",
    "**Decoder**: 1 convolutional layer - FIDDLE default w/ different final FC layer and output activation functions for classification  \n"
   ]
  },
  {
   "cell_type": "markdown",
   "metadata": {},
   "source": [
    "**S. cerevisiae + C. elegans + Random**  \n",
    "Epochs: 5  \n",
    "End Validation Accuracy: ~0.6 (keep in mind...baseline = 0.33)  \n",
    "Notes: cross entropy appeared to still be decreasing at Epoch 5 -> should try more epochs  \n",
    "\n",
    "**S. cerevisiae + C. elegans**  \n",
    "Epochs: 5  \n",
    "End Validation Accuracy: ~0.85 (baseline = 0.5)  \n",
    "\n",
    "**S. cerevisiae + S. boulardii**  \n",
    "Epochs: 5  \n",
    "End Validation Accuracy: ~0.62  "
   ]
  },
  {
   "cell_type": "markdown",
   "metadata": {},
   "source": [
    "### FIDDLE Model (Dilated Convolution)  "
   ]
  },
  {
   "cell_type": "markdown",
   "metadata": {},
   "source": [
    "**Encoder:** 2 convolutional layers (dilated convolution at 1st convolutional layer; otherwise FIDDLE default)  \n",
    "**Decoder:** 1 convolutional layer - FIDDLE default w/ different final FC layer and output activation functions for classification  \n",
    "\n",
    "**S. cerevisiae + S. boulardii**  \n",
    "Epochs: 5  \n",
    "End Validation Accuracy: ~0.6\n",
    "\n",
    "**S. cerevisiae + S. pombe** (w/o random sequences)  \n",
    "Epochs: 5  \n",
    "End Validation Accuracy: ~0.8 (sCer_sPom/exp1_norand)  "
   ]
  },
  {
   "cell_type": "markdown",
   "metadata": {},
   "source": []
  },
  {
   "cell_type": "markdown",
   "metadata": {},
   "source": [
    "### FIDDLE Model (2-Branch Regular + Dilated Convolution)"
   ]
  },
  {
   "cell_type": "markdown",
   "metadata": {},
   "source": [
    "**Encoder:** 1st branch w/ 2 regular convolutional layers, 2nd branch w/ 1 dilated convolution layer  \n",
    "Note: The 1st and 2nd branch outputs are stacked (similar to what's done in the 1st step of assembling the decoder) and then this stacked output is flattened and fed through a fully-connected layer such that its output resembles the output of using the single-branched approach, i.e. 1 x 500 representatonal layer for each input item.  \n",
    "\n",
    "**Decoder:** 1 convolutional layer - FIDDLE default w/ different final FC layer and output activation functions for classification  "
   ]
  },
  {
   "cell_type": "markdown",
   "metadata": {},
   "source": [
    "## GO Prediction"
   ]
  },
  {
   "cell_type": "markdown",
   "metadata": {},
   "source": [
    "### Tensorflow + Keras Model  \n",
    "\n",
    "**S. cerevisiae: response to stress vs. cell cycle** (w/ randomly generated sequences in training AND validation!)    \n",
    "3 Convolutional Layers  \n",
    "Epochs: 15  \n",
    "End Validation (Binary) Accuracy: ~0.8 (baseline: ~0.62, from setting all values to zero)  \n",
    "End Exact Match Accuracy: ~0.62 (baseline: ~0.33, by guessing \"cell cycle\")   \n",
    "\n",
    "**S. cerevisiae: response to stress vs. cell cycle** (w/ randomly generated sequences in training ONLY)    \n",
    "3 Convolutional Layers  \n",
    "Epochs: 15  \n",
    "End Validation (Binary) Accuracy: ~0.65 (baseline: ~0.63, from setting all values to zero)  \n",
    "End Exact Match Accuracy: ~0.35 (baseline: ~0.55, by guessing \"cell cycle\")   \n",
    "\n",
    "----\n",
    "\n",
    "**S. cerevisiae: response to stress vs. cell cycle** (w/o randomly generated sequences)  \n",
    "3 Convolutional Layers  \n",
    "Epochs: 15  \n",
    "End Validation (Binary) Accuracy: ~0.55 (baseline: N/A given that we only have 2 GO terms to predict)  \n",
    "End Exact Match Accuracy: ~0.40 (baseline: ~0.58, by guessing \"cell cycle\")  \n",
    "\n",
    "**S. cerevisiae: response to stress vs. cell cycle** (w/o randomly generated sequences)  \n",
    "6 Convolutional Layers  \n",
    "Epochs: 15  \n",
    "End Validation (Binary) Accuracy: ~0.55 (baseline: N/A given that we only have 2 GO terms to predict)  \n",
    "End Exact Match Accuracy: ~0.40 (baseline: ~0.58, by guessing \"cell cycle\")  \n",
    "\n",
    "-----\n",
    "\n",
    "**Mouse + Human: response to oxidative stress, response to hypoxia, response to endoplasmic reticulum stress, cellular response to starvation**  \n",
    "2 Convolutional Layers  \n",
    "Epochs: 40 (small datasize)  \n",
    "End Validation (Binary) Accuracy: ~0.66  \n",
    "End Exact Match Accuracy: ~0.18  \n",
    "\n"
   ]
  },
  {
   "cell_type": "code",
   "execution_count": 3,
   "metadata": {
    "collapsed": false
   },
   "outputs": [
    {
     "data": {
      "text/plain": [
       "array([[ 98, 196, 294,  49],\n",
       "       [147, 637, 294, 196],\n",
       "       [ 49, 637, 196, 147],\n",
       "       [  0, 392,  49, 147]])"
      ]
     },
     "execution_count": 3,
     "metadata": {},
     "output_type": "execute_result"
    }
   ],
   "source": [
    "# indices correspond to order of GO terms listed above  \n",
    "np.array([[ 98, 196, 294,  49],\n",
    "       [147, 637, 294, 196],\n",
    "       [ 49, 637, 196, 147],\n",
    "       [  0, 392,  49, 147]])"
   ]
  },
  {
   "cell_type": "markdown",
   "metadata": {},
   "source": [
    "**Mouse + Human: response to oxidative stress, response to hypoxia, response to endoplasmic reticulum stress, cellular response to starvation**  \n",
    "3 Convolutional Layers  \n",
    "Epochs: 30 (small datasize)  \n",
    "End Validation (Binary) Accuracy: TBD  \n",
    "End Exact Match Accuracy: TBD  \n",
    "\n",
    "\n"
   ]
  },
  {
   "cell_type": "markdown",
   "metadata": {
    "collapsed": true
   },
   "source": [
    "**Human: response to oxidative stress, response to hypoxia, response to endoplasmic reticulum stress, cellular response to starvation**  \n",
    "2 Convolutional Layers  \n",
    "Epochs: 50 (small datasize)  \n",
    "End Validation (Binary) Accuracy: ~0.72  \n",
    "End Exact Match Accuracy: ~0.37  "
   ]
  },
  {
   "cell_type": "markdown",
   "metadata": {
    "collapsed": true
   },
   "source": [
    "**Human: chromosome organization (Type II) vs. skeletal system development (Type I)**  \n",
    "2 Convolutional Layers  \n",
    "Epochs: 30  \n",
    "End Validation (Binary) Accuracy:  ~0.54  \n",
    "End Exact Match Accuracy: ~0.50  \n",
    "\n",
    "**Human: skeletal system development (Type I) vs. multicellular organism development (Type II)**  \n",
    "2 Convolutional Layers (Average Pooling)  \n",
    "Epochs: 30  \n",
    "End Validation (Binary) Accuracy: ~0.52  \n",
    "End Exact Match Accuracy: ~0.57  \n",
    "NOTE: balanced training/validation dataset (many more \"skeletal\" GO terms actually available)  \n",
    "\n",
    "**Human: skeletal system development (Type I) vs. multicellular organism development (Type II)**  \n",
    "2 Convolutional Layers (Max Pooling), Filter Width: 10  \n",
    "Epochs: 30  \n",
    "End Validation (Binary) Accuracy: ~0.48   \n",
    "End Exact Match Accuracy: ~0.46  \n",
    "NOTE: balanced training/validation dataset (many more \"skeletal\" GO terms actually available)  \n",
    "\n",
    "**S. cerevisiae: translation (Type II/TCT) vs. multicellular organism development (Type III) - balanced**  \n",
    "2 Convolutional Layers (Average Pooling), Filter Width: 10  \n",
    "End Validation (Binary) Accuracy: ~0.47  \n",
    "End Exact Match Accuracy: ~0.45  \n",
    "\n",
    "**Human: extracellular region vs. ribonucleoprotein complex**  \n",
    "3 Convolutional Layers (Average Pooling), Filter Width: 5  \n",
    "End Validation (Binary) Accuracy: ~0.48  \n",
    "End Exact Match Accuracy: ~0.40  "
   ]
  },
  {
   "cell_type": "markdown",
   "metadata": {
    "collapsed": true
   },
   "source": [
    "----\n",
    "\n",
    "### Tensorflow + Keras Model (Multi-Label Binary Classification)  \n",
    "\n",
    "**Human + Mouse: response to oxidative stress, response to hypoxia, response to endoplasmic reticulum stress, cellular response to starvation**  \n",
    "2 Convolutional Layers  \n",
    "Epochs: 30  \n",
    "End Validation Accuracy:  ~0.67  \n",
    "End Exact Match Accuracy: ~0.28 (but oxidative stress only, i.e. [1,0,0,0], is ~28% of validation dataset...)  \n",
    "\n",
    "**S. cerevisiae: cell cycle, stress, chromosome organization**  \n",
    "2 Convolutional Layers  \n",
    "Epochs: 15  \n",
    "End Validation Accuracy: ~0.56  \n",
    "End Exact Match Accuracy: ~0.20  \n",
    "\n",
    "**S. cerevisiae: cell cycle vs. stress**  \n",
    "2 Convolutional Layers  \n",
    "Epochs: 15  \n",
    "End Validation Accuracy: ~0.62  \n",
    "End Exact Match Accuracy: ~0.47  \n",
    "\n",
    "**S. cerevisiae: cell cycle vs. stress vs. chromosome organization (test only on cell cycle)**  \n",
    "2 Convolutional Layers  \n",
    "Epochs: 20  \n",
    "End Validation/Exact Match Accuracy: ~0.56  \n",
    "\n",
    "**Human: skeletal system development (Type I) vs. multicellular organism development (Type II)**  \n",
    "2 Convolutional Layers (Average Pooling), Filter Width: 10  \n",
    "Epochs: 20  \n",
    "End Validation (Binary) Accuracy: //  \n",
    "End Exact Match Accuracy: //   \n",
    "NOTE: balanced training/validation dataset (many more \"skeletal\" GO terms actually available)  \n",
    "\n"
   ]
  },
  {
   "cell_type": "markdown",
   "metadata": {
    "collapsed": true
   },
   "source": [
    "### Keras + Tensorflow Model (w/ Dilated Convolution Branch)"
   ]
  },
  {
   "cell_type": "markdown",
   "metadata": {},
   "source": [
    "**S. cerevisiae: chromosome organization vs. ribosome biogenesis (only 5 windows/gene)**  \n",
    "3 regular convolutional layers + 3 dilated convolution layers (w/ dilation rates 2, 4, and 8)  \n",
    "Epochs: 30  \n",
    "End Validation (Binary) Accuracy: ///\n"
   ]
  }
 ],
 "metadata": {
  "kernelspec": {
   "display_name": "Python 2",
   "language": "python",
   "name": "python2"
  },
  "language_info": {
   "codemirror_mode": {
    "name": "ipython",
    "version": 2
   },
   "file_extension": ".py",
   "mimetype": "text/x-python",
   "name": "python",
   "nbconvert_exporter": "python",
   "pygments_lexer": "ipython2",
   "version": "2.7.11"
  }
 },
 "nbformat": 4,
 "nbformat_minor": 0
}
